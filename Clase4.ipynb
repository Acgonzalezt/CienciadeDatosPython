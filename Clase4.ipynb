{
 "cells": [
  {
   "cell_type": "markdown",
   "id": "5f5acca0-7503-415c-a2d4-af8a6e7ec4c6",
   "metadata": {},
   "source": [
    "Listas"
   ]
  },
  {
   "cell_type": "code",
   "execution_count": 1,
   "id": "d70be5c2-2537-4abb-8821-a130997ef3e0",
   "metadata": {},
   "outputs": [],
   "source": [
    "lista=[10,20,30,40,50]"
   ]
  },
  {
   "cell_type": "code",
   "execution_count": 3,
   "id": "a64d7805-b530-46b6-a603-edf471524e3c",
   "metadata": {},
   "outputs": [
    {
     "data": {
      "text/plain": [
       "[10, 20, 30, 40, 50, 60, 60]"
      ]
     },
     "execution_count": 3,
     "metadata": {},
     "output_type": "execute_result"
    }
   ],
   "source": [
    "lista.append(60)\n",
    "lista"
   ]
  },
  {
   "cell_type": "code",
   "execution_count": 4,
   "id": "6e21825e-87f1-4a7b-ba12-428eadb88adc",
   "metadata": {},
   "outputs": [
    {
     "data": {
      "text/plain": [
       "40"
      ]
     },
     "execution_count": 4,
     "metadata": {},
     "output_type": "execute_result"
    }
   ],
   "source": [
    "lista[3]"
   ]
  },
  {
   "cell_type": "code",
   "execution_count": 5,
   "id": "c11b3774-14f4-483e-a281-259c0f5b881c",
   "metadata": {},
   "outputs": [
    {
     "data": {
      "text/plain": [
       "[30, 40, 50]"
      ]
     },
     "execution_count": 5,
     "metadata": {},
     "output_type": "execute_result"
    }
   ],
   "source": [
    "lista [2:5]"
   ]
  },
  {
   "cell_type": "code",
   "execution_count": 7,
   "id": "93b93b3b-6877-4adc-87fe-8d35e3980904",
   "metadata": {},
   "outputs": [],
   "source": [
    "lista=[10,20,30,40,50,'hola','mundo',True]"
   ]
  },
  {
   "cell_type": "code",
   "execution_count": 8,
   "id": "fbb0cbb1-0585-42e3-990c-9ae953567935",
   "metadata": {},
   "outputs": [
    {
     "data": {
      "text/plain": [
       "8"
      ]
     },
     "execution_count": 8,
     "metadata": {},
     "output_type": "execute_result"
    }
   ],
   "source": [
    "len(lista)"
   ]
  },
  {
   "cell_type": "code",
   "execution_count": 11,
   "id": "6f50d1a3-6d9a-4630-971e-227856c6fca5",
   "metadata": {},
   "outputs": [
    {
     "data": {
      "text/plain": [
       "[10, 20, 'PAPD', 'PAPD', 'PAPD', 30, 40, 50, 'hola', 'mundo', True]"
      ]
     },
     "execution_count": 11,
     "metadata": {},
     "output_type": "execute_result"
    }
   ],
   "source": [
    "lista.insert(2,'PAPD')\n",
    "lista"
   ]
  },
  {
   "cell_type": "code",
   "execution_count": 12,
   "id": "bb656ad4-def2-427d-950b-a248e60871ad",
   "metadata": {},
   "outputs": [
    {
     "data": {
      "text/plain": [
       "[10, 20, 'PAPD', 'PAPD', 'PAPD', 40, 50, 'hola', 'mundo', True]"
      ]
     },
     "execution_count": 12,
     "metadata": {},
     "output_type": "execute_result"
    }
   ],
   "source": [
    "del lista[5]\n",
    "lista"
   ]
  },
  {
   "cell_type": "code",
   "execution_count": 13,
   "id": "2c0c64b9-421c-4457-89f0-dcf06065ae5c",
   "metadata": {},
   "outputs": [
    {
     "data": {
      "text/plain": [
       "[True, 'mundo', 'hola', 50, 40, 'PAPD', 'PAPD', 'PAPD', 20, 10]"
      ]
     },
     "execution_count": 13,
     "metadata": {},
     "output_type": "execute_result"
    }
   ],
   "source": [
    "lista[::-1]"
   ]
  },
  {
   "cell_type": "code",
   "execution_count": 15,
   "id": "6eee4d47-0af3-4ddc-a260-2daa8783991f",
   "metadata": {},
   "outputs": [
    {
     "data": {
      "text/plain": [
       "[20, 'PAPD']"
      ]
     },
     "execution_count": 15,
     "metadata": {},
     "output_type": "execute_result"
    }
   ],
   "source": [
    "lista[1:5:2]"
   ]
  },
  {
   "cell_type": "code",
   "execution_count": 16,
   "id": "945956c3-d7d2-4fe4-8384-c758f1601ded",
   "metadata": {},
   "outputs": [],
   "source": [
    "numeros = [20,30,40,50,60]"
   ]
  },
  {
   "cell_type": "code",
   "execution_count": 21,
   "id": "d4a149d1-61cf-48c3-b712-bb9972532c45",
   "metadata": {},
   "outputs": [
    {
     "name": "stdout",
     "output_type": "stream",
     "text": [
      "400\n",
      "900\n",
      "1600\n",
      "2500\n",
      "3600\n"
     ]
    }
   ],
   "source": [
    "for index, num in enumerate(numeros):\n",
    "    numeros[index]=num**2    \n",
    "    print(num)"
   ]
  },
  {
   "cell_type": "markdown",
   "id": "cffc2912-cf39-4b4c-bec9-8cd76775c67f",
   "metadata": {},
   "source": [
    "### list comprehension"
   ]
  },
  {
   "cell_type": "code",
   "execution_count": 22,
   "id": "7768b941-803e-4a33-8677-3d331910054e",
   "metadata": {},
   "outputs": [
    {
     "data": {
      "text/plain": [
       "[400, 900, 1600, 2500, 3600]"
      ]
     },
     "execution_count": 22,
     "metadata": {},
     "output_type": "execute_result"
    }
   ],
   "source": [
    "numeros = [20,30,40,50,60]\n",
    "numeros = [num**2 for num in numeros]\n",
    "numeros"
   ]
  },
  {
   "cell_type": "code",
   "execution_count": 26,
   "id": "c2325718-ee36-40ce-aeb5-57105b0302f0",
   "metadata": {},
   "outputs": [
    {
     "data": {
      "text/plain": [
       "[401, 901, 1601, 2501, 3601]"
      ]
     },
     "execution_count": 26,
     "metadata": {},
     "output_type": "execute_result"
    }
   ],
   "source": [
    "def foo(x):\n",
    "    return x**2+1\n",
    "\n",
    "numeros = [20,30,40,50,60]\n",
    "numeros = [foo (num) for num in numeros]\n",
    "numeros"
   ]
  },
  {
   "cell_type": "markdown",
   "id": "ecb2cc48-f4eb-4961-a1bd-e98df133410b",
   "metadata": {
    "tags": []
   },
   "source": [
    "## forma simple"
   ]
  },
  {
   "cell_type": "code",
   "execution_count": 27,
   "id": "c615edf0-db60-4905-a9de-367b5cfe4ed3",
   "metadata": {},
   "outputs": [
    {
     "data": {
      "text/plain": [
       "[400, 32, 1600, 52, 3600]"
      ]
     },
     "execution_count": 27,
     "metadata": {},
     "output_type": "execute_result"
    }
   ],
   "source": [
    "numeros = [20,31,40,51,60]\n",
    "# si es numero par que lo eleve a 2, sino que le sume 1\n",
    "[num**2 if(num%2==0)else num + 1 for num in numeros]"
   ]
  },
  {
   "cell_type": "code",
   "execution_count": 28,
   "id": "90801126-cd35-4919-b00f-fa445a9a6bf1",
   "metadata": {},
   "outputs": [
    {
     "data": {
      "text/plain": [
       "[400, 32, 1764, 52, 3600]"
      ]
     },
     "execution_count": 28,
     "metadata": {},
     "output_type": "execute_result"
    }
   ],
   "source": [
    "numeros = [20,31,42,51,60]\n",
    "# si es numero par que lo eleve a 2, sino que le sume 1\n",
    "[num**2 if(num%2==0)else num + 1 for num in numeros]"
   ]
  },
  {
   "cell_type": "code",
   "execution_count": 34,
   "id": "d038f175-4e74-4920-8e90-cbb73951c089",
   "metadata": {},
   "outputs": [
    {
     "data": {
      "text/plain": [
       "[400, 32, 1600, 52, 3600]"
      ]
     },
     "execution_count": 34,
     "metadata": {},
     "output_type": "execute_result"
    }
   ],
   "source": [
    "def foo(x):\n",
    "    if(x%2==0):\n",
    "        return x**2\n",
    "    else:\n",
    "        return x + 1\n",
    "numeros = [20,31,40,51,60]\n",
    "numeros = [foo (num) for num in numeros]\n",
    "numeros"
   ]
  },
  {
   "cell_type": "code",
   "execution_count": 35,
   "id": "54cad644-9934-437d-94e4-2a233eb3e30c",
   "metadata": {},
   "outputs": [
    {
     "data": {
      "text/plain": [
       "[400, 32, 1600, 52, 3600, 45, 87, 90]"
      ]
     },
     "execution_count": 35,
     "metadata": {},
     "output_type": "execute_result"
    }
   ],
   "source": [
    "numeros.extend([45,87,90])\n",
    "numeros"
   ]
  },
  {
   "cell_type": "code",
   "execution_count": 37,
   "id": "3f496f34-bd87-4c6c-98f7-6b6d27f58165",
   "metadata": {},
   "outputs": [
    {
     "data": {
      "text/plain": [
       "6"
      ]
     },
     "execution_count": 37,
     "metadata": {},
     "output_type": "execute_result"
    }
   ],
   "source": [
    "numeros.index(87)"
   ]
  },
  {
   "cell_type": "markdown",
   "id": "adb5dcd6-e87e-477c-9405-e908ba23c925",
   "metadata": {},
   "source": [
    "## Truplas"
   ]
  },
  {
   "cell_type": "code",
   "execution_count": 42,
   "id": "e4a67c29-354b-4766-9615-d7bd4c1c39eb",
   "metadata": {},
   "outputs": [],
   "source": [
    "tuplaA=(10,20,30,40,'hola','mundo', True)"
   ]
  },
  {
   "cell_type": "code",
   "execution_count": 43,
   "id": "11259596-a5fd-4ba6-9b18-8119c0a02293",
   "metadata": {},
   "outputs": [
    {
     "data": {
      "text/plain": [
       "(10, 20, 30, 40, 'hola', 'mundo', True)"
      ]
     },
     "execution_count": 43,
     "metadata": {},
     "output_type": "execute_result"
    }
   ],
   "source": [
    "tuplaA"
   ]
  },
  {
   "cell_type": "code",
   "execution_count": 44,
   "id": "ba83952b-1ea3-43d8-98f6-980665ddd85e",
   "metadata": {},
   "outputs": [
    {
     "data": {
      "text/plain": [
       "'hola'"
      ]
     },
     "execution_count": 44,
     "metadata": {},
     "output_type": "execute_result"
    }
   ],
   "source": [
    "tuplaA[4]"
   ]
  },
  {
   "cell_type": "code",
   "execution_count": 45,
   "id": "4b0706fd-269b-4dc1-8f35-beb01889fb3a",
   "metadata": {},
   "outputs": [],
   "source": [
    "def foo (x):\n",
    "    resultado = x**2\n",
    "    strOut=f\"El cuadrado de {x}es {resultado}\"\n",
    "    return resultado, strOut"
   ]
  },
  {
   "cell_type": "code",
   "execution_count": 47,
   "id": "c72c5ffe-affe-4649-a3bd-b9f384be9731",
   "metadata": {},
   "outputs": [],
   "source": [
    "r1, r2 = foo (30)"
   ]
  },
  {
   "cell_type": "code",
   "execution_count": 48,
   "id": "84ea127e-4e8f-49e9-b4bc-b7d3f844d4ed",
   "metadata": {},
   "outputs": [
    {
     "data": {
      "text/plain": [
       "900"
      ]
     },
     "execution_count": 48,
     "metadata": {},
     "output_type": "execute_result"
    }
   ],
   "source": [
    "r1"
   ]
  },
  {
   "cell_type": "code",
   "execution_count": 54,
   "id": "8e21ce33-7398-4408-b0b3-10371ee450dc",
   "metadata": {},
   "outputs": [
    {
     "data": {
      "text/plain": [
       "'El cuadrado de 30es 900'"
      ]
     },
     "execution_count": 54,
     "metadata": {},
     "output_type": "execute_result"
    }
   ],
   "source": [
    "r2"
   ]
  },
  {
   "cell_type": "code",
   "execution_count": 52,
   "id": "ea72b9dd-f11e-4a45-a30a-d80aff11419b",
   "metadata": {},
   "outputs": [
    {
     "data": {
      "text/plain": [
       "(10, 20, 30, 40, 50, 60, 70, 80, 90, 100)"
      ]
     },
     "execution_count": 52,
     "metadata": {},
     "output_type": "execute_result"
    }
   ],
   "source": [
    "tupla = (10,20,30,40,50,60)\n",
    "\n",
    "tuplaX=tupla + (70,80,90,100)\n",
    "tuplaX"
   ]
  },
  {
   "cell_type": "code",
   "execution_count": 53,
   "id": "a6771b49-43f0-4e53-9f30-e59e64866000",
   "metadata": {},
   "outputs": [
    {
     "data": {
      "text/plain": [
       "(10, 20, 30, 40, 50, 60)"
      ]
     },
     "execution_count": 53,
     "metadata": {},
     "output_type": "execute_result"
    }
   ],
   "source": [
    "tupla"
   ]
  },
  {
   "cell_type": "code",
   "execution_count": 55,
   "id": "d3d22a68-1c1a-40fe-8020-ee9e4b3d1013",
   "metadata": {},
   "outputs": [
    {
     "data": {
      "text/plain": [
       "(10, 20, 30, 40, 50, 60, 70, 80, 90, 100)"
      ]
     },
     "execution_count": 55,
     "metadata": {},
     "output_type": "execute_result"
    }
   ],
   "source": [
    "tuplaX"
   ]
  },
  {
   "cell_type": "code",
   "execution_count": 56,
   "id": "a94e5edf-5871-4f3e-83aa-e0c3ce773e3a",
   "metadata": {},
   "outputs": [
    {
     "data": {
      "text/plain": [
       "('abc', 'dfg', 'hij', 'klm')"
      ]
     },
     "execution_count": 56,
     "metadata": {},
     "output_type": "execute_result"
    }
   ],
   "source": [
    "letras=('abc','dfg','hij','klm')\n",
    "letras"
   ]
  },
  {
   "cell_type": "code",
   "execution_count": 61,
   "id": "663be3ed-7df0-44b8-9051-c2a30171ddf4",
   "metadata": {},
   "outputs": [
    {
     "data": {
      "text/plain": [
       "('ABC', 'DFG', 'HIJ', 'KLM')"
      ]
     },
     "execution_count": 61,
     "metadata": {},
     "output_type": "execute_result"
    }
   ],
   "source": [
    "letras= tuple([lett.upper() for lett in letras])\n",
    "letras"
   ]
  },
  {
   "cell_type": "code",
   "execution_count": 62,
   "id": "4ee63c0f-89a6-4cc8-b431-ebe10e209209",
   "metadata": {},
   "outputs": [
    {
     "data": {
      "text/plain": [
       "(10, 30, 40, (10, 100, 10000), 90, 89)"
      ]
     },
     "execution_count": 62,
     "metadata": {},
     "output_type": "execute_result"
    }
   ],
   "source": [
    "tuplaY=(10,30,40,(10,100,10000),90,89)\n",
    "tuplaY"
   ]
  },
  {
   "cell_type": "markdown",
   "id": "959f16b8-1248-4ddc-bda2-23530fd73308",
   "metadata": {},
   "source": [
    "## Diccionario"
   ]
  },
  {
   "cell_type": "code",
   "execution_count": 64,
   "id": "44273c86-d7b8-4859-9efb-78e25e4d0e8e",
   "metadata": {},
   "outputs": [
    {
     "data": {
      "text/plain": [
       "{'js': 'Javascritp', 'py': 'Python'}"
      ]
     },
     "execution_count": 64,
     "metadata": {},
     "output_type": "execute_result"
    }
   ],
   "source": [
    "lenguajes = {'js':'Javascritp','py':'Python'}\n",
    "lenguajes"
   ]
  },
  {
   "cell_type": "code",
   "execution_count": 65,
   "id": "f081170c-7a1c-41db-8fb5-e6ba66c28689",
   "metadata": {},
   "outputs": [
    {
     "data": {
      "text/plain": [
       "'Javascritp'"
      ]
     },
     "execution_count": 65,
     "metadata": {},
     "output_type": "execute_result"
    }
   ],
   "source": [
    "lenguajes['js']"
   ]
  },
  {
   "cell_type": "code",
   "execution_count": 68,
   "id": "deab8c24-85bb-4bdb-ba7c-c57bac347d4d",
   "metadata": {},
   "outputs": [
    {
     "data": {
      "text/plain": [
       "{'js': 'Javascritp', 'py': 'Python', 'jl': 'Julia'}"
      ]
     },
     "execution_count": 68,
     "metadata": {},
     "output_type": "execute_result"
    }
   ],
   "source": [
    "lenguajes['jl']='Julia'\n",
    "lenguajes"
   ]
  },
  {
   "cell_type": "code",
   "execution_count": 69,
   "id": "da4cde19-b0e0-452a-9d8b-bc590e2f0e60",
   "metadata": {},
   "outputs": [
    {
     "data": {
      "text/plain": [
       "{'js': 'Javascritp',\n",
       " 'py': 'Python',\n",
       " 'jl': 'Julia',\n",
       " 'bajo_nivel': ['C', 'C++', 'Assembly']}"
      ]
     },
     "execution_count": 69,
     "metadata": {},
     "output_type": "execute_result"
    }
   ],
   "source": [
    "lenguajes['bajo_nivel']=['C','C++','Assembly']\n",
    "lenguajes"
   ]
  },
  {
   "cell_type": "code",
   "execution_count": 70,
   "id": "36002ceb-51af-4d67-8f18-e0475d5ddcaa",
   "metadata": {},
   "outputs": [
    {
     "data": {
      "text/plain": [
       "{'SVM': 0.8979, 'ANN': 0.8768, 'KNN': 0.8763}"
      ]
     },
     "execution_count": 70,
     "metadata": {},
     "output_type": "execute_result"
    }
   ],
   "source": [
    "metricas_modelos=dict(SVM=0.8979,ANN=0.8768,KNN=0.8763)\n",
    "metricas_modelos"
   ]
  },
  {
   "cell_type": "code",
   "execution_count": 73,
   "id": "5acee354-fb13-4936-bed8-481fe0d45d01",
   "metadata": {},
   "outputs": [
    {
     "data": {
      "text/plain": [
       "[0.8979, 0.8768, 0.8763]"
      ]
     },
     "execution_count": 73,
     "metadata": {},
     "output_type": "execute_result"
    }
   ],
   "source": [
    "list(metricas_modelos.keys())\n",
    "list(metricas_modelos.values())"
   ]
  },
  {
   "cell_type": "code",
   "execution_count": 74,
   "id": "82d23013-e19e-434f-825c-c0fd62d838fd",
   "metadata": {},
   "outputs": [
    {
     "data": {
      "text/plain": [
       "[('SVM', 0.8979), ('ANN', 0.8768), ('KNN', 0.8763)]"
      ]
     },
     "execution_count": 74,
     "metadata": {},
     "output_type": "execute_result"
    }
   ],
   "source": [
    "items=list(metricas_modelos.items())\n",
    "items"
   ]
  },
  {
   "cell_type": "code",
   "execution_count": 75,
   "id": "35970600-5e84-4d37-8747-16a2befd403a",
   "metadata": {},
   "outputs": [
    {
     "data": {
      "text/plain": [
       "0.8768"
      ]
     },
     "execution_count": 75,
     "metadata": {},
     "output_type": "execute_result"
    }
   ],
   "source": [
    "items[1][1]"
   ]
  },
  {
   "cell_type": "code",
   "execution_count": 81,
   "id": "e40434de-512d-4028-91b5-ed4292cf37cd",
   "metadata": {},
   "outputs": [],
   "source": [
    "nombre={'nombre':'andrea','apellido':'gonzalez'}"
   ]
  },
  {
   "cell_type": "code",
   "execution_count": 82,
   "id": "b7edf6a1-fda2-42f2-bd5d-d4995174307e",
   "metadata": {},
   "outputs": [
    {
     "data": {
      "text/plain": [
       "{'nombre': 'ANDREA', 'apellido': 'GONZALEZ'}"
      ]
     },
     "execution_count": 82,
     "metadata": {},
     "output_type": "execute_result"
    }
   ],
   "source": [
    "{key:value.upper() for key,value in nombre.items()}"
   ]
  },
  {
   "cell_type": "code",
   "execution_count": 84,
   "id": "8d4c3219-1dfa-4f89-979e-d9d862f51386",
   "metadata": {},
   "outputs": [
    {
     "data": {
      "text/plain": [
       "{'SVM': 0.567, 'ANN': 0.8768, 'KNN': 0.8763, 'LASSO': 0.6589}"
      ]
     },
     "execution_count": 84,
     "metadata": {},
     "output_type": "execute_result"
    }
   ],
   "source": [
    "modelos_metricas=dict(SVM=0.567,ANN=0.8768,KNN=0.8763,LASSO=0.6589)\n",
    "modelos_metricas"
   ]
  },
  {
   "cell_type": "code",
   "execution_count": 90,
   "id": "72ed02a8-eeb0-4a6e-8a3b-a470db40c89a",
   "metadata": {},
   "outputs": [],
   "source": [
    "def select_models_by_metric(key, values):\n",
    "    if(value>=0.7):\n",
    "        return key, value\n",
    "    else:\n",
    "        pass"
   ]
  },
  {
   "cell_type": "code",
   "execution_count": 95,
   "id": "6bf95322-11e8-40ba-9229-f75dbc1389e4",
   "metadata": {},
   "outputs": [
    {
     "data": {
      "text/plain": [
       "{'ANN', 'KNN', 'LASSO', 'SVM'}"
      ]
     },
     "execution_count": 95,
     "metadata": {},
     "output_type": "execute_result"
    }
   ],
   "source": [
    "{item for item in modelos_metricas}"
   ]
  },
  {
   "cell_type": "markdown",
   "id": "cf9d0307-7725-446a-a790-297e1b145ca7",
   "metadata": {},
   "source": [
    "## Sets"
   ]
  },
  {
   "cell_type": "code",
   "execution_count": 96,
   "id": "e9155251-6bf6-420a-8edd-18148d85ad48",
   "metadata": {},
   "outputs": [
    {
     "data": {
      "text/plain": [
       "{10, 20, 30, 40, 'Hola', 'Mundo', True}"
      ]
     },
     "execution_count": 96,
     "metadata": {},
     "output_type": "execute_result"
    }
   ],
   "source": [
    "setX={10,20,30,40,'Hola','Mundo', True}\n",
    "setX"
   ]
  },
  {
   "cell_type": "code",
   "execution_count": 97,
   "id": "082578e4-91c9-480f-b5de-18e702ee75e0",
   "metadata": {},
   "outputs": [
    {
     "data": {
      "text/plain": [
       "{10, 20, 30, 40, 'Hola', 'Mundo', True}"
      ]
     },
     "execution_count": 97,
     "metadata": {},
     "output_type": "execute_result"
    }
   ],
   "source": [
    "setX.add('Hola')\n",
    "setX"
   ]
  },
  {
   "cell_type": "code",
   "execution_count": 98,
   "id": "512cc82a-083d-4309-ac09-2aea81bb3cff",
   "metadata": {},
   "outputs": [],
   "source": [
    "setX={1,2,3,4,5,6}\n",
    "setY={10,20,30,40,5,6,70,80}"
   ]
  },
  {
   "cell_type": "code",
   "execution_count": 99,
   "id": "c098caba-8a12-43d4-9bd4-1044a5255eb1",
   "metadata": {},
   "outputs": [
    {
     "data": {
      "text/plain": [
       "{1, 2, 3, 4, 5, 6, 10, 20, 30, 40, 70, 80}"
      ]
     },
     "execution_count": 99,
     "metadata": {},
     "output_type": "execute_result"
    }
   ],
   "source": [
    "setX.union(setY)"
   ]
  },
  {
   "cell_type": "code",
   "execution_count": 100,
   "id": "79e48388-b047-4966-8e68-59d09bef4dee",
   "metadata": {},
   "outputs": [
    {
     "data": {
      "text/plain": [
       "{5, 6}"
      ]
     },
     "execution_count": 100,
     "metadata": {},
     "output_type": "execute_result"
    }
   ],
   "source": [
    "setX.intersection(setY)"
   ]
  },
  {
   "cell_type": "code",
   "execution_count": 101,
   "id": "db1adcf5-b34e-43db-9b1c-b7a25c227091",
   "metadata": {},
   "outputs": [
    {
     "data": {
      "text/plain": [
       "{10, 20, 30, 40, 70, 80}"
      ]
     },
     "execution_count": 101,
     "metadata": {},
     "output_type": "execute_result"
    }
   ],
   "source": [
    "setY.difference(setX)"
   ]
  },
  {
   "cell_type": "code",
   "execution_count": 102,
   "id": "3187d70d-7f6c-4363-9133-ebce1a776766",
   "metadata": {},
   "outputs": [
    {
     "data": {
      "text/plain": [
       "{1, 2, 3, 4}"
      ]
     },
     "execution_count": 102,
     "metadata": {},
     "output_type": "execute_result"
    }
   ],
   "source": [
    "setX.difference(setY)"
   ]
  },
  {
   "cell_type": "code",
   "execution_count": 103,
   "id": "a18d11fe-a682-4b8b-98f3-83239b493e1d",
   "metadata": {},
   "outputs": [
    {
     "data": {
      "text/plain": [
       "{1, 2, 3, 4, 10, 20, 30, 40, 70, 80}"
      ]
     },
     "execution_count": 103,
     "metadata": {},
     "output_type": "execute_result"
    }
   ],
   "source": [
    "setX.symmetric_difference(setY)"
   ]
  },
  {
   "cell_type": "code",
   "execution_count": 104,
   "id": "5e80351a-71cd-400a-9b7b-483830ad1d80",
   "metadata": {},
   "outputs": [
    {
     "data": {
      "text/plain": [
       "{'A', 'B', 'C', 'D'}"
      ]
     },
     "execution_count": 104,
     "metadata": {},
     "output_type": "execute_result"
    }
   ],
   "source": [
    "setZ={'a','b','c','d'}\n",
    "{letra.upper() for letra in setZ}"
   ]
  },
  {
   "cell_type": "code",
   "execution_count": null,
   "id": "695c138c-da3d-4075-9628-e8b41ceb9774",
   "metadata": {},
   "outputs": [],
   "source": []
  }
 ],
 "metadata": {
  "kernelspec": {
   "display_name": "Python 3 (ipykernel)",
   "language": "python",
   "name": "python3"
  },
  "language_info": {
   "codemirror_mode": {
    "name": "ipython",
    "version": 3
   },
   "file_extension": ".py",
   "mimetype": "text/x-python",
   "name": "python",
   "nbconvert_exporter": "python",
   "pygments_lexer": "ipython3",
   "version": "3.9.12"
  }
 },
 "nbformat": 4,
 "nbformat_minor": 5
}
