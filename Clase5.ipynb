{
 "cells": [
  {
   "cell_type": "markdown",
   "id": "4a94c902-53a5-49e1-8376-da5a1ce240f9",
   "metadata": {},
   "source": [
    "## Numpy"
   ]
  },
  {
   "cell_type": "code",
   "execution_count": 2,
   "id": "8c307f9a-90f8-421a-a3dd-382ec9c79729",
   "metadata": {},
   "outputs": [],
   "source": [
    "import numpy as np"
   ]
  },
  {
   "cell_type": "code",
   "execution_count": 5,
   "id": "f8c88eb0-31c3-47b5-8ba4-1d428820af35",
   "metadata": {},
   "outputs": [
    {
     "data": {
      "text/plain": [
       "array(['10', '20', '30', '40', '50', 'hola'], dtype='<U11')"
      ]
     },
     "execution_count": 5,
     "metadata": {},
     "output_type": "execute_result"
    }
   ],
   "source": [
    "x=np.array([10,20,30,40,50,'hola'])\n",
    "x"
   ]
  },
  {
   "cell_type": "code",
   "execution_count": 4,
   "id": "19abd0b2-6f5c-4aaf-b6c0-50965aff0e8d",
   "metadata": {},
   "outputs": [
    {
     "data": {
      "text/plain": [
       "[10, 20, 30, 40, 50]"
      ]
     },
     "execution_count": 4,
     "metadata": {},
     "output_type": "execute_result"
    }
   ],
   "source": [
    "lista=[10,20,30,40,50]\n",
    "lista"
   ]
  },
  {
   "cell_type": "code",
   "execution_count": 6,
   "id": "442a6f0a-96d1-4059-b1aa-3a88c014b653",
   "metadata": {},
   "outputs": [
    {
     "data": {
      "text/plain": [
       "array([10, 20, 30, 40, 50])"
      ]
     },
     "execution_count": 6,
     "metadata": {},
     "output_type": "execute_result"
    }
   ],
   "source": [
    "x=np.array([10,20,30,40,50])\n",
    "x"
   ]
  },
  {
   "cell_type": "code",
   "execution_count": 7,
   "id": "77c6e014-1c86-4813-87ba-47709bbc1368",
   "metadata": {},
   "outputs": [
    {
     "data": {
      "text/plain": [
       "50"
      ]
     },
     "execution_count": 7,
     "metadata": {},
     "output_type": "execute_result"
    }
   ],
   "source": [
    "x[4]"
   ]
  },
  {
   "cell_type": "code",
   "execution_count": 8,
   "id": "e3683aca-3392-49d1-a4a8-a2010d82c9ef",
   "metadata": {},
   "outputs": [
    {
     "data": {
      "text/plain": [
       "array([30, 40])"
      ]
     },
     "execution_count": 8,
     "metadata": {},
     "output_type": "execute_result"
    }
   ],
   "source": [
    "x[2:4]"
   ]
  },
  {
   "cell_type": "code",
   "execution_count": 9,
   "id": "91b921fb-1e89-4573-981d-d9a122f83654",
   "metadata": {},
   "outputs": [
    {
     "data": {
      "text/plain": [
       "array([30, 40, 50])"
      ]
     },
     "execution_count": 9,
     "metadata": {},
     "output_type": "execute_result"
    }
   ],
   "source": [
    "x[2:5]"
   ]
  },
  {
   "cell_type": "code",
   "execution_count": 11,
   "id": "a5fcb40b-9a99-4323-b6c0-7fe4d7b7e76c",
   "metadata": {},
   "outputs": [
    {
     "data": {
      "text/plain": [
       "array([ 1,  2,  3,  4,  5,  6,  7,  8,  9, 10, 11, 12, 13, 14, 15, 16, 17,\n",
       "       18, 19])"
      ]
     },
     "execution_count": 11,
     "metadata": {},
     "output_type": "execute_result"
    }
   ],
   "source": [
    "z=np.arange(1,20,1)\n",
    "z"
   ]
  },
  {
   "cell_type": "code",
   "execution_count": 12,
   "id": "f6aa44d6-1006-4b21-b18e-4e30b78aee1f",
   "metadata": {},
   "outputs": [
    {
     "data": {
      "text/plain": [
       "array([ 1. ,  1.5,  2. ,  2.5,  3. ,  3.5,  4. ,  4.5,  5. ,  5.5,  6. ,\n",
       "        6.5,  7. ,  7.5,  8. ,  8.5,  9. ,  9.5, 10. , 10.5, 11. , 11.5,\n",
       "       12. , 12.5, 13. , 13.5, 14. , 14.5, 15. , 15.5, 16. , 16.5, 17. ,\n",
       "       17.5, 18. , 18.5, 19. , 19.5, 20. , 20.5])"
      ]
     },
     "execution_count": 12,
     "metadata": {},
     "output_type": "execute_result"
    }
   ],
   "source": [
    "z=np.arange(start=1, stop=21, step=0.5)\n",
    "z"
   ]
  },
  {
   "cell_type": "code",
   "execution_count": 14,
   "id": "98fc6006-5a5a-4e33-84c5-6124be590e34",
   "metadata": {},
   "outputs": [
    {
     "data": {
      "text/plain": [
       "array([ 1.,  2.,  3.,  4.,  5.,  6.,  7.,  8.,  9., 10., 11., 12., 13.,\n",
       "       14., 15., 16., 17., 18., 19., 20.])"
      ]
     },
     "execution_count": 14,
     "metadata": {},
     "output_type": "execute_result"
    }
   ],
   "source": [
    "y=np.linspace(1,20,20)\n",
    "y"
   ]
  },
  {
   "cell_type": "code",
   "execution_count": 16,
   "id": "c0f7fd66-3e99-4799-9d6d-924477fe58af",
   "metadata": {},
   "outputs": [
    {
     "data": {
      "text/plain": [
       "array([ 1.        ,  1.00950475,  1.0190095 , ..., 19.9809905 ,\n",
       "       19.99049525, 20.        ])"
      ]
     },
     "execution_count": 16,
     "metadata": {},
     "output_type": "execute_result"
    }
   ],
   "source": [
    "y=np.linspace(1,20,2000)\n",
    "## puede ser util para hacer graficas o evaluación de funciones\n",
    "y"
   ]
  },
  {
   "cell_type": "code",
   "execution_count": 19,
   "id": "b70e6ad0-379f-44ef-b236-3c92c828c38e",
   "metadata": {},
   "outputs": [
    {
     "data": {
      "text/plain": [
       "array([[0., 0., 0., 0., 0., 0., 0., 0., 0., 0.],\n",
       "       [0., 0., 0., 0., 0., 0., 0., 0., 0., 0.],\n",
       "       [0., 0., 0., 0., 0., 0., 0., 0., 0., 0.],\n",
       "       [0., 0., 0., 0., 0., 0., 0., 0., 0., 0.],\n",
       "       [0., 0., 0., 0., 0., 0., 0., 0., 0., 0.],\n",
       "       [0., 0., 0., 0., 0., 0., 0., 0., 0., 0.],\n",
       "       [0., 0., 0., 0., 0., 0., 0., 0., 0., 0.],\n",
       "       [0., 0., 0., 0., 0., 0., 0., 0., 0., 0.],\n",
       "       [0., 0., 0., 0., 0., 0., 0., 0., 0., 0.],\n",
       "       [0., 0., 0., 0., 0., 0., 0., 0., 0., 0.]])"
      ]
     },
     "execution_count": 19,
     "metadata": {},
     "output_type": "execute_result"
    }
   ],
   "source": [
    "x=np.zeros((10,10))\n",
    "x"
   ]
  },
  {
   "cell_type": "code",
   "execution_count": 20,
   "id": "be5e7ea9-cda1-4f03-8196-2250da01ab00",
   "metadata": {},
   "outputs": [
    {
     "data": {
      "text/plain": [
       "array([[1., 1., 1., 1., 1., 1., 1., 1., 1., 1., 1., 1., 1., 1., 1.],\n",
       "       [1., 1., 1., 1., 1., 1., 1., 1., 1., 1., 1., 1., 1., 1., 1.],\n",
       "       [1., 1., 1., 1., 1., 1., 1., 1., 1., 1., 1., 1., 1., 1., 1.],\n",
       "       [1., 1., 1., 1., 1., 1., 1., 1., 1., 1., 1., 1., 1., 1., 1.],\n",
       "       [1., 1., 1., 1., 1., 1., 1., 1., 1., 1., 1., 1., 1., 1., 1.],\n",
       "       [1., 1., 1., 1., 1., 1., 1., 1., 1., 1., 1., 1., 1., 1., 1.],\n",
       "       [1., 1., 1., 1., 1., 1., 1., 1., 1., 1., 1., 1., 1., 1., 1.],\n",
       "       [1., 1., 1., 1., 1., 1., 1., 1., 1., 1., 1., 1., 1., 1., 1.],\n",
       "       [1., 1., 1., 1., 1., 1., 1., 1., 1., 1., 1., 1., 1., 1., 1.],\n",
       "       [1., 1., 1., 1., 1., 1., 1., 1., 1., 1., 1., 1., 1., 1., 1.]])"
      ]
     },
     "execution_count": 20,
     "metadata": {},
     "output_type": "execute_result"
    }
   ],
   "source": [
    "x=np.ones((10,15))\n",
    "x"
   ]
  },
  {
   "cell_type": "code",
   "execution_count": 24,
   "id": "156b60a9-33a1-484f-9ae9-5a56f7e55cc0",
   "metadata": {},
   "outputs": [
    {
     "data": {
      "text/plain": [
       "array([[ 10,  20,  30,  40,  50],\n",
       "       [ 60,  70,  80,  90, 100]])"
      ]
     },
     "execution_count": 24,
     "metadata": {},
     "output_type": "execute_result"
    }
   ],
   "source": [
    "y = np.array([[10,20,30,40,50],[60,70,80,90,100]])\n",
    "y"
   ]
  },
  {
   "cell_type": "code",
   "execution_count": 23,
   "id": "11490299-17fc-4df2-8818-8e0c50fc3a54",
   "metadata": {},
   "outputs": [
    {
     "data": {
      "text/plain": [
       "array([[0, 0, 0, 0, 0],\n",
       "       [0, 0, 0, 0, 0]])"
      ]
     },
     "execution_count": 23,
     "metadata": {},
     "output_type": "execute_result"
    }
   ],
   "source": [
    "np.zeros_like(y)"
   ]
  },
  {
   "cell_type": "code",
   "execution_count": 25,
   "id": "04afb857-23b9-4ac9-8391-7b340fd41858",
   "metadata": {},
   "outputs": [
    {
     "data": {
      "text/plain": [
       "array([[1, 1, 1, 1, 1],\n",
       "       [1, 1, 1, 1, 1]])"
      ]
     },
     "execution_count": 25,
     "metadata": {},
     "output_type": "execute_result"
    }
   ],
   "source": [
    "np.ones_like(y)"
   ]
  },
  {
   "cell_type": "code",
   "execution_count": 26,
   "id": "7a9e8ca3-d673-429e-8dce-43516e54f986",
   "metadata": {},
   "outputs": [
    {
     "name": "stdout",
     "output_type": "stream",
     "text": [
      "El rango del tensor es:2 y las dimensiones son:(2, 5)\n"
     ]
    }
   ],
   "source": [
    "y = np.array([[10,20,30,40,50],[60,70,80,90,100]])\n",
    "rango=y.ndim\n",
    "#rango del tensor es 2 la cantidad de valores que requiero para gestionar la información dentro del tensor\n",
    "dimensiones=y.shape\n",
    "print(f\"El rango del tensor es:{rango} y las dimensiones son:{dimensiones}\")\n",
    "#cada variable es una dimensión\n",
    "#f en la funcion print le damos el permiso de escribir de forma str y referencia a variables"
   ]
  },
  {
   "cell_type": "markdown",
   "id": "425ff258-ce23-42bf-b36e-d997ce08a5bf",
   "metadata": {},
   "source": [
    "### operaciones"
   ]
  },
  {
   "cell_type": "code",
   "execution_count": 27,
   "id": "323dac34-ea4b-4434-8655-a4ec5218f832",
   "metadata": {},
   "outputs": [],
   "source": [
    "v=np.array([1,2,3,4])\n",
    "w=np.array([5,6,7,8])"
   ]
  },
  {
   "cell_type": "code",
   "execution_count": 30,
   "id": "f2767fa2-3419-4877-9680-7f8cb9074bfb",
   "metadata": {},
   "outputs": [
    {
     "name": "stdout",
     "output_type": "stream",
     "text": [
      "suma:  [ 6  8 10 12]\n",
      "resta:  [-4 -4 -4 -4]\n",
      "multiplicacion:  [ 5 12 21 32]\n",
      "division:  [0.2        0.33333333 0.42857143 0.5       ]\n",
      "modulo:  [1 2 3 4]\n",
      "---Broadcasting----\n",
      "mult escalar:  [10 12 14 16]\n",
      "suma escalar:  [6 7 8 9]\n",
      "resta escalar:  [-1 -2 -3 -4]\n",
      "division escalar:  [0.625 0.75  0.875 1.   ]\n",
      "modulo escalar:  [1 0 1 0]\n"
     ]
    }
   ],
   "source": [
    "print(\"suma: \", v + w)\n",
    "print(\"resta: \", v - w)\n",
    "print(\"multiplicacion: \", v * w)\n",
    "print(\"division: \", v / w)\n",
    "print(\"modulo: \", v % w)\n",
    "print(\"--- Broadcasting ---\")\n",
    "print(\"mult escalar: \", 2*w)\n",
    "print(\"suma escalar: \", 5 + v)\n",
    "print(\"resta escalar: \", 4 - w)\n",
    "print(\"division escalar: \", w / 8)\n",
    "print(\"modulo escalar: \", w % 2)\n",
    "\n",
    "#modulo es el residuo de la división"
   ]
  },
  {
   "cell_type": "code",
   "execution_count": 31,
   "id": "70ab0c22-86ef-49ca-9d92-29a2601a1d1d",
   "metadata": {},
   "outputs": [
    {
     "name": "stdout",
     "output_type": "stream",
     "text": [
      "[1 2 3 4 5 6 7 3 3 4 5]\n",
      "[ 1.  2.  3.  4.  5.  6.  7. nan  5.  9. nan]\n"
     ]
    }
   ],
   "source": [
    "x = np.array([1,2, 3,4, 5, 6, 7, 3, 3, 4, 5])\n",
    "x_nan = np.array([1, 2, 3, 4, 5, 6, 7, np.nan, 5, 9, np.nan])\n",
    "\n",
    "print(x)\n",
    "print(x_nan)"
   ]
  },
  {
   "cell_type": "code",
   "execution_count": 32,
   "id": "696c4637-6702-46cb-a2cf-c996d37b35e5",
   "metadata": {},
   "outputs": [
    {
     "data": {
      "text/plain": [
       "nan"
      ]
     },
     "execution_count": 32,
     "metadata": {},
     "output_type": "execute_result"
    }
   ],
   "source": [
    "np.mean(x_nan)"
   ]
  },
  {
   "cell_type": "code",
   "execution_count": 33,
   "id": "9c2e0449-34ff-45c2-94ab-ca076489c9c4",
   "metadata": {},
   "outputs": [
    {
     "data": {
      "text/plain": [
       "4.666666666666667"
      ]
     },
     "execution_count": 33,
     "metadata": {},
     "output_type": "execute_result"
    }
   ],
   "source": [
    "np.nanmean(x_nan)"
   ]
  },
  {
   "cell_type": "code",
   "execution_count": 34,
   "id": "0528b5fd-cc6f-44b2-9a0e-53f1b14915f5",
   "metadata": {},
   "outputs": [
    {
     "name": "stdout",
     "output_type": "stream",
     "text": [
      "3.909090909090909\n",
      "4.666666666666667\n",
      "4.0\n",
      "5.0\n",
      "1.6762808104168887\n",
      "2.357022603955158\n",
      "7\n",
      "9.0\n",
      "1\n",
      "1.0\n",
      "2.809917355371901\n",
      "5.5555555555555545\n",
      "43\n",
      "42.0\n",
      "907200\n",
      "907200\n"
     ]
    }
   ],
   "source": [
    "print(np.mean(x))\n",
    "print(np.nanmean(x_nan))\n",
    "print(np.median(x))\n",
    "print(np.nanmedian(x_nan))\n",
    "print(np.std(x))\n",
    "print(np.nanstd(x_nan))\n",
    "print(np.max(x))\n",
    "print(np.nanmax(x_nan))\n",
    "print(np.min(x))\n",
    "print(np.nanmin(x_nan))\n",
    "print(np.var(x))\n",
    "print(np.nanvar(x_nan))\n",
    "print(np.sum(x))\n",
    "print(np.nansum(x_nan))\n",
    "print(np.prod(x))\n",
    "print(np.nanprod(x))"
   ]
  },
  {
   "cell_type": "markdown",
   "id": "28e60846-8340-4f62-94cf-8ba06f71b64d",
   "metadata": {},
   "source": [
    "## Reshape"
   ]
  },
  {
   "cell_type": "code",
   "execution_count": 38,
   "id": "a46bb390-84cf-4ceb-bfc8-f54da4376040",
   "metadata": {},
   "outputs": [
    {
     "data": {
      "text/plain": [
       "array([ 1,  2,  3,  4,  5,  6,  7,  8,  9, 10])"
      ]
     },
     "execution_count": 38,
     "metadata": {},
     "output_type": "execute_result"
    }
   ],
   "source": [
    "x=np.arange(1,11,1)\n",
    "x"
   ]
  },
  {
   "cell_type": "code",
   "execution_count": 39,
   "id": "1674319d-5dae-49bf-bec4-0c4f9a073f19",
   "metadata": {},
   "outputs": [
    {
     "data": {
      "text/plain": [
       "array([[ 1,  2,  3,  4,  5],\n",
       "       [ 6,  7,  8,  9, 10]])"
      ]
     },
     "execution_count": 39,
     "metadata": {},
     "output_type": "execute_result"
    }
   ],
   "source": [
    "np.reshape(x,(2,5))\n",
    "## cambiarle la forma a un arreglo"
   ]
  },
  {
   "cell_type": "code",
   "execution_count": 40,
   "id": "188d869c-092f-4267-8a88-43906dc6ca96",
   "metadata": {},
   "outputs": [
    {
     "data": {
      "text/plain": [
       "array([[ 1,  2],\n",
       "       [ 3,  4],\n",
       "       [ 5,  6],\n",
       "       [ 7,  8],\n",
       "       [ 9, 10]])"
      ]
     },
     "execution_count": 40,
     "metadata": {},
     "output_type": "execute_result"
    }
   ],
   "source": [
    "np.reshape(x,(5,2))"
   ]
  },
  {
   "cell_type": "code",
   "execution_count": 41,
   "id": "9e7fa7b5-bca9-43be-8921-1c80c0f1bc70",
   "metadata": {},
   "outputs": [
    {
     "ename": "SyntaxError",
     "evalue": "unexpected EOF while parsing (26567007.py, line 1)",
     "output_type": "error",
     "traceback": [
      "\u001b[1;36m  Input \u001b[1;32mIn [41]\u001b[1;36m\u001b[0m\n\u001b[1;33m    np.reshape(x,(3,5)\u001b[0m\n\u001b[1;37m                      ^\u001b[0m\n\u001b[1;31mSyntaxError\u001b[0m\u001b[1;31m:\u001b[0m unexpected EOF while parsing\n"
     ]
    }
   ],
   "source": [
    "np.reshape(x,(3,5))\n",
    "#error porque la data no da para hacer el arreglo"
   ]
  },
  {
   "cell_type": "code",
   "execution_count": 42,
   "id": "8bb9e60f-35cb-4326-996f-f796f8f9f879",
   "metadata": {},
   "outputs": [
    {
     "data": {
      "text/plain": [
       "array([ 1,  2,  3,  4,  5,  6,  7,  8,  9, 10])"
      ]
     },
     "execution_count": 42,
     "metadata": {},
     "output_type": "execute_result"
    }
   ],
   "source": [
    "x # Vector fila"
   ]
  },
  {
   "cell_type": "code",
   "execution_count": 43,
   "id": "a4ac2530-5fd3-4ccb-9fea-74e265b0789f",
   "metadata": {},
   "outputs": [
    {
     "data": {
      "text/plain": [
       "array([[ 1],\n",
       "       [ 2],\n",
       "       [ 3],\n",
       "       [ 4],\n",
       "       [ 5],\n",
       "       [ 6],\n",
       "       [ 7],\n",
       "       [ 8],\n",
       "       [ 9],\n",
       "       [10]])"
      ]
     },
     "execution_count": 43,
     "metadata": {},
     "output_type": "execute_result"
    }
   ],
   "source": [
    "np.reshape(x,(10,1))"
   ]
  },
  {
   "cell_type": "code",
   "execution_count": 44,
   "id": "49678e56-dbe2-4850-b94e-d51e99b0782b",
   "metadata": {},
   "outputs": [
    {
     "data": {
      "text/plain": [
       "array([[ 1],\n",
       "       [ 2],\n",
       "       [ 3],\n",
       "       [ 4],\n",
       "       [ 5],\n",
       "       [ 6],\n",
       "       [ 7],\n",
       "       [ 8],\n",
       "       [ 9],\n",
       "       [10]])"
      ]
     },
     "execution_count": 44,
     "metadata": {},
     "output_type": "execute_result"
    }
   ],
   "source": [
    "np.reshape(x,(-1,1))"
   ]
  },
  {
   "cell_type": "markdown",
   "id": "579a3b28-726b-463c-99f0-f21b2209c047",
   "metadata": {},
   "source": [
    "### Performance"
   ]
  },
  {
   "cell_type": "code",
   "execution_count": 54,
   "id": "3e7cbf4b-bc10-49b0-bb51-f429a77fd049",
   "metadata": {},
   "outputs": [],
   "source": [
    "from time import time"
   ]
  },
  {
   "cell_type": "code",
   "execution_count": 51,
   "id": "27b09916-af79-44d4-ba14-33cfe429e4bd",
   "metadata": {},
   "outputs": [],
   "source": []
  },
  {
   "cell_type": "code",
   "execution_count": 47,
   "id": "34d0682c-5861-47dd-b1b1-8bcdb7be34e2",
   "metadata": {},
   "outputs": [],
   "source": []
  },
  {
   "cell_type": "code",
   "execution_count": 59,
   "id": "88a3402b-a7ba-4a3a-9aa0-4d62a9816e27",
   "metadata": {},
   "outputs": [
    {
     "name": "stdout",
     "output_type": "stream",
     "text": [
      "El tiempo de ejecucion es 26.922301292419434\n"
     ]
    }
   ],
   "source": [
    "x=np.linspace(1,10000000,20000000)\n",
    "b0=5\n",
    "b1=2\n",
    "y=np.empty_like(x)\n",
    "inicio = time()\n",
    "for index, value in enumerate(x):\n",
    "    y[index]=b0+b1*value\n",
    "fin=time()\n",
    "\n",
    "print(f\"El tiempo de ejecucion es {fin-inicio}\")    "
   ]
  },
  {
   "cell_type": "code",
   "execution_count": null,
   "id": "478f52bf-ebde-4ace-b001-7af6cec4f6ef",
   "metadata": {},
   "outputs": [],
   "source": []
  }
 ],
 "metadata": {
  "kernelspec": {
   "display_name": "Python 3 (ipykernel)",
   "language": "python",
   "name": "python3"
  },
  "language_info": {
   "codemirror_mode": {
    "name": "ipython",
    "version": 3
   },
   "file_extension": ".py",
   "mimetype": "text/x-python",
   "name": "python",
   "nbconvert_exporter": "python",
   "pygments_lexer": "ipython3",
   "version": "3.9.12"
  }
 },
 "nbformat": 4,
 "nbformat_minor": 5
}
