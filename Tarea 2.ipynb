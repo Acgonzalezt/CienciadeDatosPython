{
 "cells": [
  {
   "cell_type": "markdown",
   "id": "f0ebd6bc-0842-4dc2-a3ae-d7b8c43c5129",
   "metadata": {},
   "source": [
    "# Hoja de Trabajo 2\n",
    "### Andrea Celeste González Torres\n",
    "### Carné 22007687 "
   ]
  },
  {
   "cell_type": "markdown",
   "id": "422c4c04-5432-42a9-b56a-d5ada58237a2",
   "metadata": {},
   "source": [
    "### Ejercicio 1"
   ]
  },
  {
   "cell_type": "code",
   "execution_count": 1,
   "id": "856a8969-4597-4fc3-8716-0ffa9419ffaa",
   "metadata": {},
   "outputs": [
    {
     "name": "stdin",
     "output_type": "stream",
     "text": [
      "ingrese los segundos:  400\n"
     ]
    },
    {
     "name": "stdout",
     "output_type": "stream",
     "text": [
      "Horas: 0, Minutos: 6, Segundos: 40\n",
      "Termino el programa\n"
     ]
    }
   ],
   "source": [
    "try:\n",
    "    cant_segundo = int(input(\"ingrese los segundos: \"))    \n",
    "    def convertir_seg (cant_segundo):\n",
    "     horas = cant_segundo // 3600\n",
    "     minutos_resto = cant_segundo % 3600\n",
    "     minutos = minutos_resto // 60\n",
    "     segundos_resto = minutos_resto % 60\n",
    "     segundos = segundos_resto % 60\n",
    "     return horas, minutos, segundos\n",
    "    \n",
    "    horas, minutos, segundos = convertir_seg(cant_segundo)\n",
    "    print(f\"Horas: {horas}, Minutos: {minutos}, Segundos: {segundos}\")\n",
    "except ValueError as ex:\n",
    "    print(\"Ingreso letra y no numero\")\n",
    "except ZeroDivisionError as ex:\n",
    "    print(\"Ingreso una division por cero\")\n",
    "finally:\n",
    "    print(\"Termino el programa\")"
   ]
  },
  {
   "cell_type": "markdown",
   "id": "9d1dc945-0325-4307-ad2c-bd86cc0cd756",
   "metadata": {},
   "source": [
    "### Ejercicio 2"
   ]
  },
  {
   "cell_type": "code",
   "execution_count": 2,
   "id": "0111cd5e-07cf-400a-8e5f-f2a227760807",
   "metadata": {},
   "outputs": [
    {
     "name": "stdin",
     "output_type": "stream",
     "text": [
      "Introduce un numero  3\n",
      "Introduce un simbolo  *\n"
     ]
    },
    {
     "name": "stdout",
     "output_type": "stream",
     "text": [
      "El numero es 3\n",
      "\n",
      "*\n",
      "**\n",
      "***\n",
      "\n",
      "***\n",
      "**\n",
      "*\n",
      "\n",
      "   \n",
      "  *\n",
      " **\n",
      "***\n",
      "\n",
      "***\n",
      " **\n",
      "  *\n",
      "\n"
     ]
    }
   ],
   "source": [
    "numero=int(input(\"Introduce un numero \"))\n",
    "simbolo=input(\"Introduce un simbolo \")\n",
    "\n",
    "if((numero>=1)and(numero<=20)):\n",
    "    print(f\"El numero es {numero}\")\n",
    "    for i in range(numero+1):\n",
    "         print(simbolo*i),\n",
    "    print ()\n",
    "\n",
    "    for i in range(numero,0,-1):\n",
    "         print(i*simbolo),\n",
    "    print ()\n",
    "    \n",
    "    for i in range(numero+1):\n",
    "        espacios=(numero-i)\n",
    "        print(\" \"*espacios+simbolo*i),\n",
    "    print ()\n",
    "    \n",
    "    for i in range(numero,0,-1):\n",
    "        espacios=(numero-i)\n",
    "        print(\" \"*espacios+simbolo*i),\n",
    "    print ()\n",
    "    \n",
    "else:\n",
    "    print(\"El numero no es valido\")"
   ]
  },
  {
   "cell_type": "markdown",
   "id": "1d9d2493-2262-48b3-9342-14141f144326",
   "metadata": {},
   "source": [
    "### Ejercicio 3"
   ]
  },
  {
   "cell_type": "code",
   "execution_count": 3,
   "id": "513ff652-d5a3-438d-b099-8eeb64e82316",
   "metadata": {},
   "outputs": [
    {
     "name": "stdin",
     "output_type": "stream",
     "text": [
      "Introduce el día de nacimiento  20\n",
      "Introduce el mes de nacimiento  04\n",
      "Introduce el año de nacimiento  1990\n",
      "Introduce el día actual  27\n",
      "Introduce el mes actual  02\n",
      "Introduce el año actual  2023\n"
     ]
    },
    {
     "name": "stdout",
     "output_type": "stream",
     "text": [
      "Tiene 32 años 10 meses y  7 días\n"
     ]
    }
   ],
   "source": [
    "from datetime import date\n",
    "from datetime import datetime\n",
    "\n",
    "dia_nac=int(input(\"Introduce el día de nacimiento \"))\n",
    "mes_nac=int(input(\"Introduce el mes de nacimiento \"))\n",
    "año_nac=int(input(\"Introduce el año de nacimiento \"))\n",
    "\n",
    "dia_act=int(input(\"Introduce el día actual \"))\n",
    "mes_act=int(input(\"Introduce el mes actual \"))\n",
    "año_act=int(input(\"Introduce el año actual \"))\n",
    "\n",
    "edad = año_act- año_nac\n",
    "meses = mes_act+12-mes_nac\n",
    "mes=mes_act-mes_nac\n",
    "dias = dia_act-dia_nac\n",
    "\n",
    "if mes_nac > mes_act:\n",
    "    if dia_nac > dia_act:\n",
    "        edad = edad-1\n",
    "        print (\"Tiene {} años {} meses y  {} días\".format(edad,meses,dias))\n",
    "else:\n",
    "    print(\"Tiene {} años {} meses y  {} días\".format(edad,mes,dias)) \n",
    "\n",
    "if mes_nac > mes_act:\n",
    "    if dia_nac < dia_act:\n",
    "        edad = edad-1\n",
    "        print (\"Tiene {} años {} meses y  {} días\".format(edad,meses,dias))\n",
    "else:\n",
    "    print(\"Tiene {} años {} meses y {} días\".format(edad,mes,dias))"
   ]
  },
  {
   "cell_type": "markdown",
   "id": "94ebc648-b959-4e25-9667-7ab58c1ede74",
   "metadata": {},
   "source": [
    "### Ejercicio 4"
   ]
  },
  {
   "cell_type": "code",
   "execution_count": 4,
   "id": "42c692f9-ac7b-47c4-96f1-5d6117382423",
   "metadata": {},
   "outputs": [
    {
     "name": "stdout",
     "output_type": "stream",
     "text": [
      "102040570\n"
     ]
    }
   ],
   "source": [
    "Tupla1 =(10, 20, 40, 5, 70)\n",
    "s=''.join(map(str,Tupla1))\n",
    "print (s)"
   ]
  },
  {
   "cell_type": "markdown",
   "id": "300c9330-bb01-4e70-a1fe-3c142ec1c451",
   "metadata": {},
   "source": [
    "### Ejercicio 5"
   ]
  },
  {
   "cell_type": "code",
   "execution_count": 5,
   "id": "5ec8db3f-dc5c-49a5-ae7f-c027a8432612",
   "metadata": {},
   "outputs": [
    {
     "name": "stdout",
     "output_type": "stream",
     "text": [
      "[('X',), ('a', 'b'), ('a', 'b', 'c'), 'd']\n"
     ]
    }
   ],
   "source": [
    "Tupla2 =[(),(),('X',),('a','b'),('a','b','c'),('d')]\n",
    "Tuplas=[t for t in Tupla2 if t]\n",
    "print (Tuplas)"
   ]
  },
  {
   "cell_type": "markdown",
   "id": "df28e24b-5172-4676-b4af-bdf99c1a874c",
   "metadata": {},
   "source": [
    "### Ejercicio 6"
   ]
  },
  {
   "cell_type": "code",
   "execution_count": 6,
   "id": "363a484c-46bd-4273-b1ca-e50ad4d8e3ca",
   "metadata": {},
   "outputs": [
    {
     "name": "stdout",
     "output_type": "stream",
     "text": [
      "[10.5 44.  58. ]\n"
     ]
    }
   ],
   "source": [
    "import numpy as np\n",
    "Trupla = ((10, 10, 10, 12), (30, 45, 56, 45), (81, 80, 39, 32))\n",
    "mean = np.mean(Trupla, axis=1)\n",
    "print(mean)"
   ]
  },
  {
   "cell_type": "markdown",
   "id": "0559245f-5464-46eb-8879-9d6ee518dbda",
   "metadata": {},
   "source": [
    "### Ejercicio 7"
   ]
  },
  {
   "cell_type": "code",
   "execution_count": 7,
   "id": "cd619f6f-b22b-41e8-a9b0-914ac167486f",
   "metadata": {},
   "outputs": [
    {
     "name": "stdout",
     "output_type": "stream",
     "text": [
      "Recaudado: 0\n",
      "Pendiente de cobro:  0\n"
     ]
    },
    {
     "name": "stdin",
     "output_type": "stream",
     "text": [
      "¿Quieres añadir una nueva factura (A), pagarla (P) o terminar (T)?  A\n",
      "Introduce el número de la factura:  1234\n",
      "Introduce el valor de la factura:  100\n"
     ]
    },
    {
     "name": "stdout",
     "output_type": "stream",
     "text": [
      "Recaudado: 0\n",
      "Pendiente de cobro:  100.0\n"
     ]
    },
    {
     "name": "stdin",
     "output_type": "stream",
     "text": [
      "¿Quieres añadir una nueva factura (A), pagarla (P) o terminar (T)?  A\n",
      "Introduce el número de la factura:  1235\n",
      "Introduce el valor de la factura:  200\n"
     ]
    },
    {
     "name": "stdout",
     "output_type": "stream",
     "text": [
      "Recaudado: 0\n",
      "Pendiente de cobro:  300.0\n"
     ]
    },
    {
     "name": "stdin",
     "output_type": "stream",
     "text": [
      "¿Quieres añadir una nueva factura (A), pagarla (P) o terminar (T)?  A\n",
      "Introduce el número de la factura:  1236\n",
      "Introduce el valor de la factura:  500\n"
     ]
    },
    {
     "name": "stdout",
     "output_type": "stream",
     "text": [
      "Recaudado: 0\n",
      "Pendiente de cobro:  800.0\n"
     ]
    },
    {
     "name": "stdin",
     "output_type": "stream",
     "text": [
      "¿Quieres añadir una nueva factura (A), pagarla (P) o terminar (T)?  P\n",
      "Introduce el número de la factura a pagar:  1235\n"
     ]
    },
    {
     "name": "stdout",
     "output_type": "stream",
     "text": [
      "Recaudado: 200.0\n",
      "Pendiente de cobro:  600.0\n"
     ]
    },
    {
     "name": "stdin",
     "output_type": "stream",
     "text": [
      "¿Quieres añadir una nueva factura (A), pagarla (P) o terminar (T)?  T\n"
     ]
    }
   ],
   "source": [
    "Factura = {}\n",
    "Cobrado = 0\n",
    "Pendiente = 0\n",
    "more = ''\n",
    "while more != 'T':\n",
    "    if more == 'A':\n",
    "        clave = input('Introduce el número de la factura: ')\n",
    "        valor = float(input('Introduce el valor de la factura: '))\n",
    "        Factura [clave] = valor\n",
    "        Pendiente += valor\n",
    "    if more == 'P':\n",
    "        clave = input('Introduce el número de la factura a pagar: ')\n",
    "        valor = Factura.pop(clave, 0)\n",
    "        Cobrado += valor\n",
    "        Pendiente -= valor\n",
    "    print('Recaudado:', Cobrado)\n",
    "    print('Pendiente de cobro: ', Pendiente)\n",
    "    more = input('¿Quieres añadir una nueva factura (A), pagarla (P) o terminar (T)? ')"
   ]
  }
 ],
 "metadata": {
  "kernelspec": {
   "display_name": "Python 3 (ipykernel)",
   "language": "python",
   "name": "python3"
  },
  "language_info": {
   "codemirror_mode": {
    "name": "ipython",
    "version": 3
   },
   "file_extension": ".py",
   "mimetype": "text/x-python",
   "name": "python",
   "nbconvert_exporter": "python",
   "pygments_lexer": "ipython3",
   "version": "3.9.12"
  }
 },
 "nbformat": 4,
 "nbformat_minor": 5
}
