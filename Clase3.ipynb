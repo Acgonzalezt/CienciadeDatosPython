{
 "cells": [
  {
   "cell_type": "code",
   "execution_count": 10,
   "id": "339c9687-295c-41fa-8ce8-03d304dcee97",
   "metadata": {},
   "outputs": [
    {
     "name": "stdin",
     "output_type": "stream",
     "text": [
      "Ingrese un numero: 9\n"
     ]
    },
    {
     "name": "stdout",
     "output_type": "stream",
     "text": [
      "El numero NO es cero!!\n"
     ]
    }
   ],
   "source": [
    "numero = int(input(\"Ingrese un numero:\"))\n",
    "\n",
    "if(numero== 0):\n",
    "    print(\"El numero es cero!!\")\n",
    "else:\n",
    "    print(\"El numero NO es cero!!\")"
   ]
  },
  {
   "cell_type": "code",
   "execution_count": 20,
   "id": "b9952c90-6f0b-40be-90e2-a2549bf5d5ce",
   "metadata": {},
   "outputs": [
    {
     "name": "stdin",
     "output_type": "stream",
     "text": [
      "ingrese un día: 7\n"
     ]
    },
    {
     "name": "stdout",
     "output_type": "stream",
     "text": [
      "El día es es fin de semana\n"
     ]
    }
   ],
   "source": [
    "dia = int(input(\"ingrese un día:\"))\n",
    "if((dia>=1)and(dia<=7)):\n",
    "    if(dia==1):\n",
    "        print(\"El día es Lunes - 1\")\n",
    "    elif(dia==2):\n",
    "        print(\"El día es martes - 2\")\n",
    "    elif(dia==3):\n",
    "        print(\"El día es miercoles - 3\")\n",
    "    elif(dia==4):\n",
    "        print(\"El día es jueves - 4\")\n",
    "    elif(dia==5):\n",
    "        print(\"El día es viernes - 5\")\n",
    "    else:\n",
    "        print(\"El día es es fin de semana\")\n",
    "else:\n",
    "    print(\"El valor del día no es valido\")"
   ]
  },
  {
   "cell_type": "markdown",
   "id": "982318d9-faf0-4cc0-8066-0cdf325d2872",
   "metadata": {},
   "source": [
    "FOR"
   ]
  },
  {
   "cell_type": "code",
   "execution_count": 21,
   "id": "4959c952-e540-48db-8b2b-5e9e145de0f9",
   "metadata": {},
   "outputs": [
    {
     "name": "stdout",
     "output_type": "stream",
     "text": [
      "0\n",
      "1\n",
      "2\n",
      "3\n",
      "4\n",
      "5\n",
      "6\n"
     ]
    }
   ],
   "source": [
    "numeros=[0,1,2,3,4,5,6]\n",
    "\n",
    "for i in numeros:\n",
    "    print(i)\n",
    "    "
   ]
  },
  {
   "cell_type": "code",
   "execution_count": 23,
   "id": "bc059d95-0981-4387-98ac-6e5feb7d2fbe",
   "metadata": {},
   "outputs": [
    {
     "ename": "SyntaxError",
     "evalue": "EOL while scanning string literal (1022255160.py, line 2)",
     "output_type": "error",
     "traceback": [
      "\u001b[1;36m  Input \u001b[1;32mIn [23]\u001b[1;36m\u001b[0m\n\u001b[1;33m    str=\"\u001b[0m\n\u001b[1;37m         ^\u001b[0m\n\u001b[1;31mSyntaxError\u001b[0m\u001b[1;31m:\u001b[0m EOL while scanning string literal\n"
     ]
    }
   ],
   "source": [
    "letras=['A','B','C','D','E','F','G']\n",
    "str=\"\n",
    "for ltt in letras:\n",
    "    print(ltt)\n",
    "print(str)"
   ]
  },
  {
   "cell_type": "code",
   "execution_count": 24,
   "id": "bce0df4a-cebb-44bd-b0b1-88ebbc50a848",
   "metadata": {},
   "outputs": [
    {
     "data": {
      "text/plain": [
       "'Andr'"
      ]
     },
     "execution_count": 24,
     "metadata": {},
     "output_type": "execute_result"
    }
   ],
   "source": [
    "miStr='Andrea Gonzalez'\n",
    "\n",
    "miStr[0:4]"
   ]
  },
  {
   "cell_type": "code",
   "execution_count": 25,
   "id": "821d8192-72e6-400d-b544-41e529bdaec2",
   "metadata": {},
   "outputs": [
    {
     "name": "stdout",
     "output_type": "stream",
     "text": [
      "0\n",
      "1\n",
      "2\n",
      "3\n",
      "4\n",
      "5\n",
      "6\n",
      "7\n",
      "8\n",
      "9\n",
      "10\n",
      "11\n",
      "12\n",
      "13\n",
      "14\n",
      "15\n",
      "16\n",
      "17\n",
      "18\n",
      "19\n",
      "20\n",
      "21\n",
      "22\n",
      "23\n",
      "24\n",
      "25\n"
     ]
    }
   ],
   "source": [
    "for i in range(26):\n",
    "    print(i)"
   ]
  },
  {
   "cell_type": "code",
   "execution_count": 26,
   "id": "e1916526-0bda-4ee0-ace1-9f7425b6de8e",
   "metadata": {},
   "outputs": [
    {
     "name": "stdout",
     "output_type": "stream",
     "text": [
      "10\n",
      "12\n",
      "14\n",
      "16\n",
      "18\n",
      "20\n",
      "22\n",
      "24\n"
     ]
    }
   ],
   "source": [
    "for i in range(10,26,2):\n",
    "    print(i)"
   ]
  },
  {
   "cell_type": "code",
   "execution_count": 30,
   "id": "356c0604-e5b2-4c63-a792-ede180d9f378",
   "metadata": {},
   "outputs": [
    {
     "name": "stdout",
     "output_type": "stream",
     "text": [
      "A-100\n",
      "C-102\n",
      "D-453\n",
      "X-886\n",
      "G-897\n",
      "R-634\n"
     ]
    }
   ],
   "source": [
    "A=['A','C','D','X','G','R']\n",
    "num=[100,102,453,886,897,634]\n",
    "\n",
    "for index, valor in enumerate(A):\n",
    "    #print(f\"el valor {valor} esta en la posicion: {index}\")\n",
    "    codigo=valor+'-'+str(num[index])\n",
    "    print(codigo)"
   ]
  },
  {
   "cell_type": "code",
   "execution_count": 31,
   "id": "b74101f4-7791-4440-825a-31c2f11ad877",
   "metadata": {},
   "outputs": [
    {
     "name": "stdout",
     "output_type": "stream",
     "text": [
      "A-100\n",
      "C-102\n",
      "D-453\n",
      "X-886\n",
      "G-897\n",
      "R-634\n"
     ]
    }
   ],
   "source": [
    "A=['A','C','D','X','G','R']\n",
    "num=[100,102,453,886,897,634]\n",
    "\n",
    "for index, valor in enumerate(A):\n",
    "    codigo=f\"{valor}-{num[index]}\"\n",
    "    print(codigo)"
   ]
  },
  {
   "cell_type": "code",
   "execution_count": 32,
   "id": "5115f4a2-23fd-4aed-a59f-63c5a6c8cb37",
   "metadata": {},
   "outputs": [
    {
     "data": {
      "text/plain": [
       "[10, 12, 14, 16, 18, 20, 22, 24]"
      ]
     },
     "execution_count": 32,
     "metadata": {},
     "output_type": "execute_result"
    }
   ],
   "source": [
    "list(range(10,26,2))"
   ]
  },
  {
   "cell_type": "markdown",
   "id": "3e46f520-e16d-4f4f-b09c-f590f7aa1d8d",
   "metadata": {},
   "source": [
    "while"
   ]
  },
  {
   "cell_type": "code",
   "execution_count": null,
   "id": "f7a2f8c1-e694-4275-bca9-c5a876fc3489",
   "metadata": {},
   "outputs": [],
   "source": [
    "numero=4\n",
    "numUsuario = int(input(\"Ingrese un numero:\"))\n",
    "\n",
    "while(numero !=numUsuario):\n",
    "    numUsuario=int(input(\"Ingrese un numero:\"))\n",
    "    print(\"El numero ingresado es incorrecto, intente de nuevo\")"
   ]
  },
  {
   "cell_type": "code",
   "execution_count": 2,
   "id": "1d740e32-ea6f-43e0-81d6-92f3e8c238b9",
   "metadata": {},
   "outputs": [
    {
     "name": "stdin",
     "output_type": "stream",
     "text": [
      "Ingrese un numero: 9\n"
     ]
    },
    {
     "name": "stdout",
     "output_type": "stream",
     "text": [
      "El numero ingresado es incorrecto, intente de nuevo\n"
     ]
    },
    {
     "name": "stdin",
     "output_type": "stream",
     "text": [
      "Ingrese un numero: 5\n"
     ]
    },
    {
     "name": "stdout",
     "output_type": "stream",
     "text": [
      "El numero ingresado es incorrecto, intente de nuevo\n"
     ]
    },
    {
     "name": "stdin",
     "output_type": "stream",
     "text": [
      "Ingrese un numero: 6\n"
     ]
    },
    {
     "name": "stdout",
     "output_type": "stream",
     "text": [
      "El numero ingresado es incorrecto, intente de nuevo\n"
     ]
    },
    {
     "name": "stdin",
     "output_type": "stream",
     "text": [
      "Ingrese un numero: 4\n"
     ]
    },
    {
     "name": "stdout",
     "output_type": "stream",
     "text": [
      "El numero ingresado es incorrecto, intente de nuevo\n",
      "Adivino el numero, programa terminado\n"
     ]
    }
   ],
   "source": [
    "numero=4\n",
    "numUsuario = 0\n",
    "\n",
    "while(numero !=numUsuario):\n",
    "    numUsuario=int(input(\"Ingrese un numero:\"))\n",
    "    print(\"El numero ingresado es incorrecto, intente de nuevo\")\n",
    "print(\"Adivino el numero, programa terminado\")"
   ]
  },
  {
   "cell_type": "code",
   "execution_count": 13,
   "id": "ef2dffab-7cd4-4543-a48f-bab2a6937af3",
   "metadata": {},
   "outputs": [
    {
     "name": "stdin",
     "output_type": "stream",
     "text": [
      "ingrese un numero: 5\n",
      "ingrese un factor de division: a\n"
     ]
    },
    {
     "ename": "ValueError",
     "evalue": "invalid literal for int() with base 10: 'a'",
     "output_type": "error",
     "traceback": [
      "\u001b[1;31m---------------------------------------------------------------------------\u001b[0m",
      "\u001b[1;31mValueError\u001b[0m                                Traceback (most recent call last)",
      "Input \u001b[1;32mIn [13]\u001b[0m, in \u001b[0;36m<cell line: 2>\u001b[1;34m()\u001b[0m\n\u001b[0;32m      1\u001b[0m numero \u001b[38;5;241m=\u001b[39m \u001b[38;5;28mint\u001b[39m(\u001b[38;5;28minput\u001b[39m(\u001b[38;5;124m\"\u001b[39m\u001b[38;5;124mingrese un numero:\u001b[39m\u001b[38;5;124m\"\u001b[39m))\n\u001b[1;32m----> 2\u001b[0m divisor\u001b[38;5;241m=\u001b[39m\u001b[38;5;28;43mint\u001b[39;49m\u001b[43m(\u001b[49m\u001b[38;5;28;43minput\u001b[39;49m\u001b[43m(\u001b[49m\u001b[38;5;124;43m\"\u001b[39;49m\u001b[38;5;124;43mingrese un factor de division:\u001b[39;49m\u001b[38;5;124;43m\"\u001b[39;49m\u001b[43m)\u001b[49m\u001b[43m)\u001b[49m\n\u001b[0;32m      4\u001b[0m resultado\u001b[38;5;241m=\u001b[39mnumero\u001b[38;5;241m/\u001b[39mdivisor\n\u001b[0;32m      6\u001b[0m \u001b[38;5;28mprint\u001b[39m(\u001b[38;5;124m\"\u001b[39m\u001b[38;5;124mla division de \u001b[39m\u001b[38;5;132;01m{}\u001b[39;00m\u001b[38;5;124m y \u001b[39m\u001b[38;5;132;01m{}\u001b[39;00m\u001b[38;5;124m es \u001b[39m\u001b[38;5;132;01m{}\u001b[39;00m\u001b[38;5;124m\"\u001b[39m\u001b[38;5;241m.\u001b[39mformat(numero,divisor,resultado))\n",
      "\u001b[1;31mValueError\u001b[0m: invalid literal for int() with base 10: 'a'"
     ]
    }
   ],
   "source": [
    "numero = int(input(\"ingrese un numero:\"))\n",
    "divisor=int(input(\"ingrese un factor de division:\"))\n",
    "\n",
    "resultado=numero/divisor\n",
    "\n",
    "print(\"la division de {} y {} es {}\".format(numero,divisor,resultado))"
   ]
  },
  {
   "cell_type": "code",
   "execution_count": 14,
   "id": "f9a25997-6fb1-46f3-b150-9a2ec94a1648",
   "metadata": {},
   "outputs": [
    {
     "name": "stdin",
     "output_type": "stream",
     "text": [
      "ingrese un numero: 5\n",
      "ingrese un factor de division: 0\n"
     ]
    },
    {
     "name": "stdout",
     "output_type": "stream",
     "text": [
      "Error en los datos\n"
     ]
    }
   ],
   "source": [
    "try:\n",
    "    numero = int(input(\"ingrese un numero:\"))\n",
    "    divisor=int(input(\"ingrese un factor de division:\"))\n",
    "\n",
    "    resultado=numero/divisor\n",
    "\n",
    "    print(\"la division de {} y {} es {}\".format(numero,divisor,resultado))\n",
    "except:\n",
    "    print(\"Error en los datos\")"
   ]
  },
  {
   "cell_type": "code",
   "execution_count": 16,
   "id": "6e8be56a-e230-48e7-b3fa-b639b4831abf",
   "metadata": {},
   "outputs": [
    {
     "name": "stdin",
     "output_type": "stream",
     "text": [
      "ingrese un numero: 5\n",
      "ingrese un factor de division: 0\n"
     ]
    },
    {
     "name": "stdout",
     "output_type": "stream",
     "text": [
      "Ingreso una division por cero\n",
      "Termino el programa\n"
     ]
    }
   ],
   "source": [
    "try:\n",
    "    numero = int(input(\"ingrese un numero:\"))\n",
    "    divisor=int(input(\"ingrese un factor de division:\"))\n",
    "\n",
    "    resultado=numero/divisor\n",
    "\n",
    "    print(\"la division de {} y {} es {}\".format(numero,divisor,resultado))\n",
    "except ValueError as ex:\n",
    "    print(\"Ingreso letra y no numero\")\n",
    "except ZeroDivisionError as ex:\n",
    "    print(\"Ingreso una division por cero\")\n",
    "finally:\n",
    "    print(\"Termino el programa\")"
   ]
  },
  {
   "cell_type": "markdown",
   "id": "00697094-ad20-43fc-b72d-aefcfc6bb0a3",
   "metadata": {},
   "source": [
    "Archivos"
   ]
  },
  {
   "cell_type": "code",
   "execution_count": 17,
   "id": "da9a17da-8748-4fe2-984f-0f6898eedba2",
   "metadata": {},
   "outputs": [],
   "source": [
    "import os\n",
    "from pathlib import Path"
   ]
  },
  {
   "cell_type": "code",
   "execution_count": 18,
   "id": "c4a49d1e-34b1-4be9-ae78-d017b6839fa8",
   "metadata": {},
   "outputs": [
    {
     "data": {
      "text/plain": [
       "'Lecciones\\\\Clases'"
      ]
     },
     "execution_count": 18,
     "metadata": {},
     "output_type": "execute_result"
    }
   ],
   "source": [
    "os.path.join('Lecciones','Clases')"
   ]
  },
  {
   "cell_type": "code",
   "execution_count": 19,
   "id": "c25d5322-e059-439d-aaf5-68d35c255ce1",
   "metadata": {},
   "outputs": [
    {
     "ename": "NameError",
     "evalue": "name 'pd' is not defined",
     "output_type": "error",
     "traceback": [
      "\u001b[1;31m---------------------------------------------------------------------------\u001b[0m",
      "\u001b[1;31mNameError\u001b[0m                                 Traceback (most recent call last)",
      "Input \u001b[1;32mIn [19]\u001b[0m, in \u001b[0;36m<cell line: 1>\u001b[1;34m()\u001b[0m\n\u001b[1;32m----> 1\u001b[0m data \u001b[38;5;241m=\u001b[39m \u001b[43mpd\u001b[49m\u001b[38;5;241m.\u001b[39mread_csv(\u001b[38;5;124m'\u001b[39m\u001b[38;5;130;01m\\\\\u001b[39;00m\u001b[38;5;124mdata\u001b[39m\u001b[38;5;130;01m\\\\\u001b[39;00m\u001b[38;5;124muduarios\u001b[39m\u001b[38;5;130;01m\\\\\u001b[39;00m\u001b[38;5;124mdatos.csv\u001b[39m\u001b[38;5;124m'\u001b[39m)\n",
      "\u001b[1;31mNameError\u001b[0m: name 'pd' is not defined"
     ]
    }
   ],
   "source": [
    "data = pd.read_csv('\\\\data\\\\uduarios\\\\datos.csv')"
   ]
  },
  {
   "cell_type": "code",
   "execution_count": 20,
   "id": "6a097e4a-4584-44f4-8440-3ff673b7d242",
   "metadata": {},
   "outputs": [
    {
     "name": "stdout",
     "output_type": "stream",
     "text": [
      "data\\usuarios\\datos.csv\n"
     ]
    }
   ],
   "source": [
    "myPath=os.path.join('data','usuarios','datos.csv')\n",
    "print(myPath)"
   ]
  },
  {
   "cell_type": "code",
   "execution_count": 21,
   "id": "8c2794de-fa05-4b07-b39f-214802b2d883",
   "metadata": {},
   "outputs": [
    {
     "data": {
      "text/plain": [
       "'C:\\\\Users\\\\Andrea\\\\Desktop\\\\Python'"
      ]
     },
     "execution_count": 21,
     "metadata": {},
     "output_type": "execute_result"
    }
   ],
   "source": [
    "os.getcwd()"
   ]
  },
  {
   "cell_type": "code",
   "execution_count": 25,
   "id": "6d143485-469c-4750-8740-6a0c6f5778f4",
   "metadata": {},
   "outputs": [
    {
     "ename": "FileNotFoundError",
     "evalue": "[Errno 2] No such file or directory: 'data\\\\usuarios\\\\datos.csv'",
     "output_type": "error",
     "traceback": [
      "\u001b[1;31m---------------------------------------------------------------------------\u001b[0m",
      "\u001b[1;31mFileNotFoundError\u001b[0m                         Traceback (most recent call last)",
      "Input \u001b[1;32mIn [25]\u001b[0m, in \u001b[0;36m<cell line: 2>\u001b[1;34m()\u001b[0m\n\u001b[0;32m      1\u001b[0m \u001b[38;5;66;03m#lectura de archivos:\u001b[39;00m\n\u001b[1;32m----> 2\u001b[0m \u001b[38;5;28;01mwith\u001b[39;00m \u001b[38;5;28;43mopen\u001b[39;49m\u001b[43m(\u001b[49m\u001b[43mmyPath\u001b[49m\u001b[43m,\u001b[49m\u001b[38;5;124;43m'\u001b[39;49m\u001b[38;5;124;43mr\u001b[39;49m\u001b[38;5;124;43m'\u001b[39;49m\u001b[43m)\u001b[49m \u001b[38;5;28;01mas\u001b[39;00m archivo:\n\u001b[0;32m      3\u001b[0m     lineas\u001b[38;5;241m=\u001b[39marchivo\u001b[38;5;241m.\u001b[39mreadlines()\n\u001b[0;32m      4\u001b[0m     \u001b[38;5;28;01mfor\u001b[39;00m linea \u001b[38;5;129;01min\u001b[39;00m lineas:\n",
      "\u001b[1;31mFileNotFoundError\u001b[0m: [Errno 2] No such file or directory: 'data\\\\usuarios\\\\datos.csv'"
     ]
    }
   ],
   "source": [
    "#lectura de archivos:\n",
    "with open(myPath,'r') as archivo:\n",
    "    lineas=archivo.readlines()\n",
    "    for linea in lineas:\n",
    "        print(linea)"
   ]
  },
  {
   "cell_type": "code",
   "execution_count": 1,
   "id": "85f656b4-1122-4626-ba7a-682817240a78",
   "metadata": {},
   "outputs": [
    {
     "ename": "NameError",
     "evalue": "name 'myPath' is not defined",
     "output_type": "error",
     "traceback": [
      "\u001b[1;31m---------------------------------------------------------------------------\u001b[0m",
      "\u001b[1;31mNameError\u001b[0m                                 Traceback (most recent call last)",
      "Input \u001b[1;32mIn [1]\u001b[0m, in \u001b[0;36m<cell line: 2>\u001b[1;34m()\u001b[0m\n\u001b[0;32m      1\u001b[0m \u001b[38;5;66;03m#append\u001b[39;00m\n\u001b[1;32m----> 2\u001b[0m \u001b[38;5;28;01mwith\u001b[39;00m \u001b[38;5;28mopen\u001b[39m(\u001b[43mmyPath\u001b[49m,\u001b[38;5;124m'\u001b[39m\u001b[38;5;124ma\u001b[39m\u001b[38;5;124m'\u001b[39m)\u001b[38;5;28;01mas\u001b[39;00m archivo:\n\u001b[0;32m      3\u001b[0m     archivo\u001b[38;5;241m.\u001b[39mwrite(\u001b[38;5;124m'\u001b[39m\u001b[38;5;124mHola esto es un texto.\u001b[39m\u001b[38;5;130;01m\\n\u001b[39;00m\u001b[38;5;124m'\u001b[39m)\n",
      "\u001b[1;31mNameError\u001b[0m: name 'myPath' is not defined"
     ]
    }
   ],
   "source": [
    "#append\n",
    "with open(myPath,'a')as archivo:\n",
    "    archivo.write('Hola esto es un texto.\\n')"
   ]
  },
  {
   "cell_type": "markdown",
   "id": "b4e9a4f8-be1c-4ce5-bc77-3029a6ee0844",
   "metadata": {},
   "source": [
    "Funciones"
   ]
  },
  {
   "cell_type": "code",
   "execution_count": 10,
   "id": "a72ab919-c979-4304-8711-c31f5269202f",
   "metadata": {},
   "outputs": [],
   "source": [
    "def cuadrado(num):\n",
    "    num=num**2\n",
    "    return num, 'A'"
   ]
  },
  {
   "cell_type": "code",
   "execution_count": 12,
   "id": "fc045a69-9d85-4f0a-8520-4fee8a9cda79",
   "metadata": {},
   "outputs": [
    {
     "name": "stdout",
     "output_type": "stream",
     "text": [
      "(100, 'A')\n"
     ]
    }
   ],
   "source": [
    "a = cuadrado(10)\n",
    "print(a)"
   ]
  },
  {
   "cell_type": "code",
   "execution_count": 13,
   "id": "d4d4400f-b4a1-4c1d-a8b9-37c890e17d18",
   "metadata": {},
   "outputs": [],
   "source": [
    "def cuadrado (num,pow):\n",
    "    res=num**pow\n",
    "    salidaStr=f'El valor {num} elevado a las {pow} es: {res}'\n",
    "    return res, salidaStr"
   ]
  },
  {
   "cell_type": "code",
   "execution_count": 14,
   "id": "c4be5661-5ef4-4cd4-bff0-75c3ec35d821",
   "metadata": {},
   "outputs": [
    {
     "name": "stdout",
     "output_type": "stream",
     "text": [
      "1000\n",
      "El valor 10 elevado a las 3 es: 1000\n"
     ]
    }
   ],
   "source": [
    "resultado, strResultado = cuadrado (10,3)\n",
    "print(resultado)\n",
    "print(strResultado)"
   ]
  },
  {
   "cell_type": "code",
   "execution_count": null,
   "id": "a888522b-f472-4e41-bdcb-c798c0646496",
   "metadata": {},
   "outputs": [],
   "source": []
  }
 ],
 "metadata": {
  "kernelspec": {
   "display_name": "Python 3 (ipykernel)",
   "language": "python",
   "name": "python3"
  },
  "language_info": {
   "codemirror_mode": {
    "name": "ipython",
    "version": 3
   },
   "file_extension": ".py",
   "mimetype": "text/x-python",
   "name": "python",
   "nbconvert_exporter": "python",
   "pygments_lexer": "ipython3",
   "version": "3.9.12"
  }
 },
 "nbformat": 4,
 "nbformat_minor": 5
}
