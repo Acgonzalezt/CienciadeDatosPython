{
 "cells": [
  {
   "cell_type": "markdown",
   "id": "2fba1fbd-4b02-4005-857d-db3c42935a9f",
   "metadata": {
    "tags": []
   },
   "source": [
    "### Investigación"
   ]
  },
  {
   "cell_type": "markdown",
   "id": "051352ed-42f5-46d5-b9d8-26a7ee78e1f7",
   "metadata": {},
   "source": [
    "### Andrea Celeste González Torres\n",
    "### Carné 22007687"
   ]
  },
  {
   "cell_type": "markdown",
   "id": "d966626b-c8aa-4415-96e3-72cb796256dc",
   "metadata": {},
   "source": [
    "## Que es Git"
   ]
  },
  {
   "cell_type": "markdown",
   "id": "e43e8a52-9aef-4728-8672-75b4a97398c3",
   "metadata": {},
   "source": [
    "Git es un proyecto de código abierto maduro y con un mantenimiento activo que desarrolló originalmente Linus Torvalds en el 2005, presenta una arquitectura distribuida, en lugar de tener un único espacio para todo el historial de versiones del software, como sucede de manera habitual en los sistemas de control de versiones antaño populares, como CVS o Subversion en Git la copia de trabajo del código de cada desarrollador es también un repositorio que puede albergar el historial completo de todos los cambios. Git es una excelente herramienta tiene la funcionalidad, el rendimiento, la seguridad y la flexibilidad que la mayoría de los equipos y desarrolladores individuales necesitan. "
   ]
  },
  {
   "cell_type": "markdown",
   "id": "4e439830-09f1-4130-9b72-2498f3b4028d",
   "metadata": {},
   "source": [
    "Git es un sistema de control de versiones distribuido, lo que significa que un clon local del proyecto es un repositorio de control de versiones completo. Estos repositorios locales plenamente funcionales permiten trabajar sin conexión o de forma remota con facilidad. Los desarrolladores confirman su trabajo localmente y sincronizan su copia del repositorio con la copia en el servidor. "
   ]
  },
  {
   "cell_type": "markdown",
   "id": "6d8af2c1-bc99-4d9e-9daa-1988643d8405",
   "metadata": {},
   "source": [
    "Rendimiento: La confirmación de nuevos cambios, la ramificación, la fusión y la comparación de versiones anteriores se han optimizado en favor del rendimiento. Los algoritmos implementados aprovechan el profundo conocimiento sobre los atributos comunes de los auténticos árboles de archivos de código fuente, cómo suelen modificarse con el paso del tiempo y cuáles son los patrones de acceso."
   ]
  },
  {
   "cell_type": "markdown",
   "id": "244b1085-ec0e-43ef-94c2-ade3a29bfb58",
   "metadata": {},
   "source": [
    "Seguridad: se ha diseñado con la principal prioridad de conservar la integridad del código fuente gestionado. El contenido de los archivos y las verdaderas relaciones entre estos y los directorios, las versiones, las etiquetas y las confirmaciones, todos ellos objetos del repositorio de Git, están protegidos con un algoritmo de hash criptográficamente seguro llamado \"SHA1\". \n",
    "Flexibilidad: en la capacidad para varios tipos de flujos de trabajo de desarrollo no lineal, en su eficiencia en proyectos tanto grandes como pequeños y en su compatibilidad con numerosos sistemas y protocolos.\n"
   ]
  },
  {
   "cell_type": "markdown",
   "id": "d205acbf-4883-4cc0-bdc2-94da58141caa",
   "metadata": {},
   "source": [
    "Git también implica que muchos servicios y herramientas de software de terceros ya están integrados con Git, incluidos los IDE, y nuestras propias herramientas, como el cliente de escritorio de DVCS, Sourcetree; el software de seguimiento de proyectos e incidencias, Jira; y el servicio de alojamiento de código, Bitbucket."
   ]
  },
  {
   "cell_type": "markdown",
   "id": "6561261c-a502-413f-a114-a3b41c25919d",
   "metadata": {},
   "source": [
    "El hecho de que sea de código abierto reduce el coste para los desarrolladores aficionados, puesto que pueden utilizar Git sin necesidad de pagar ninguna cuota. En lo que respecta a los proyectos de código abierto, no cabe duda de que Git es el sucesor de las anteriores generaciones de los exitosos sistemas de control de versiones de código abierto, SVN y CVS."
   ]
  },
  {
   "cell_type": "markdown",
   "id": "7a2dae99-23b1-4de0-8fed-6c0e6dc06c44",
   "metadata": {},
   "source": [
    "Una confirmación es una instantánea de todos los archivos en un momento dado. Si un archivo no ha cambiado de una confirmación a la siguiente, Git usa el archivo almacenado anteriormente. Este diseño difiere de otros sistemas que almacenan una versión inicial de un archivo y mantienen un registro de deltas a lo largo del tiempo."
   ]
  },
  {
   "cell_type": "markdown",
   "id": "921b3829-3886-4ea6-add6-3c599a259a2b",
   "metadata": {},
   "source": [
    "Las confirmaciones crean vínculos a otras confirmaciones, formando un gráfico del historial de desarrollo. Es posible revertir el código a una confirmación anterior, inspeccionar cómo cambiaron los archivos de una confirmación a la siguiente y revisar información como dónde y cuándo se realizaron los cambios. Las confirmaciones se identifican en Git mediante un hash criptográfico único del contenido de la confirmación. Dado que todo está hash, es imposible realizar cambios, perder información o archivos dañados sin que Git lo detecte."
   ]
  },
  {
   "cell_type": "markdown",
   "id": "e16b674e-4d6a-4761-9c3e-c1418464b173",
   "metadata": {},
   "source": [
    "Las ramas, que son punteros ligeros para trabajar en curso, administran esta separación, se guarda los cambios en su propio repositorio de código local. Como resultado, puede haber muchos cambios diferentes en función de la misma confirmación. Git proporciona herramientas para aislar los cambios y volver a combinarlos posteriormente. Una vez finalizado el trabajo creado en una rama, se puede combinar de nuevo en la rama principal del equipo."
   ]
  },
  {
   "cell_type": "markdown",
   "id": "d462294d-b943-4566-8c73-e61cd05c5571",
   "metadata": {},
   "source": [
    "Los archivos de Git se encuentran en uno de los tres estados: modificados, almacenados provisionalmente o confirmados. Cuando se modifica un archivo por primera vez, los cambios solo existen en el directorio de trabajo. Todavía no forman parte de una confirmación o del historial de desarrollo. El desarrollador debe almacenar provisionalmente los archivos modificados que se incluirán en la confirmación. El área de almacenamiento provisional contiene todos los cambios que se van a incluir en la siguiente confirmación. Una vez que el desarrollador esté satisfecho con los archivos almacenados provisionalmente, los archivos se empaquetan como confirmación con un mensaje que describe lo que ha cambiado. El almacenamiento provisional permite a los desarrolladores elegir qué cambios de archivo guardar en una confirmación para desglosar los cambios grandes en una serie de confirmaciones más pequeñas. Al reducir el ámbito de las confirmaciones, es más fácil revisar el historial de confirmaciones para buscar cambios de archivo específicos."
   ]
  },
  {
   "cell_type": "markdown",
   "id": "60fd9ec1-7cd4-43eb-a5ea-0242abcb15fe",
   "metadata": {},
   "source": [
    "## Que es GitHub"
   ]
  },
  {
   "cell_type": "markdown",
   "id": "40610aa4-201c-4dec-ae02-3267f5188c0b",
   "metadata": {},
   "source": [
    "GitHub es una plataforma de alojamiento de código para el control de versiones y la colaboración. Te permite a ti y a otros trabajar juntos en proyectos desde cualquier lugar. Las GitHub Apps brindan un servicio a toda una organización y utilizan su propia identidad al realizar su función. Se pueden instalar directamente en organizaciones y cuentas de usuario y se les puede otorgar acceso a repositorios específicos. Vienen con permisos granulares y webhooks integrados."
   ]
  },
  {
   "cell_type": "markdown",
   "id": "7869372c-0b8e-4fdf-be0a-3cf1fa5e3777",
   "metadata": {},
   "source": [
    "Una rama es una versión paralela de un repositorio. Está contenido dentro del repositorio, pero no afecta la rama primaria o principal, lo que le permite trabajar libremente sin interrumpir la versión \"en vivo\". Cuando haya realizado los cambios que desea realizar, puede fusionar su rama nuevamente en la rama principal para publicar sus cambios. La rama básica es en la que se combinan los cambios cuando fusionas una solicitud de extracción. Cuando crea una solicitud de extracción, puede cambiar la rama base de la rama predeterminada del repositorio a otra rama si es necesario. "
   ]
  },
  {
   "cell_type": "markdown",
   "id": "43038024-004b-4ae9-b413-b7e9430555c2",
   "metadata": {},
   "source": [
    "Para notificar a una persona en GitHub usando @antes de su nombre de usuario. Los usuarios de una organización en GitHub también pueden ser parte de un equipo que se puede mencionar. \n",
    "GitHub ofrece productos gratuitos y de pago para almacenar y colaborar en el código. Algunos productos se aplican solo a cuentas personales, mientras que otros planes se aplican solo a cuentas de organizaciones y empresas. Incluye dos opciones de implementación: GitHub Enterprise Cloud, que está alojado en la nube y forma parte de GitHub.com, y GitHub Enterprise Server, que está autohospedado. El flujo de GitHub es un flujo de trabajo ligero basado en sucursales que admite equipos y proyectos que se implementan regularmente."
   ]
  },
  {
   "cell_type": "markdown",
   "id": "d2a71453-5bfe-446b-8f8a-94a91bc3c873",
   "metadata": {},
   "source": [
    "#### Servicios que ofrece GitHub"
   ]
  },
  {
   "cell_type": "markdown",
   "id": "2c042833-b10f-4cf3-83e6-1854112cff74",
   "metadata": {},
   "source": [
    "-\tSoporte de la comunidad de GitHub\n",
    "-\tAlertas de dependientebot\n",
    "-\tCumplimiento de la autenticación de dos factores\n",
    "-\tMinutos de GitHub Actions al mes\n",
    "-\tAlmacenamiento de paquetes GitHub\n",
    "-\tHoras básicas de GitHub Codespaces por mes\n",
    "-\tAlmacenamiento de GitHub Codespaces al mes\n",
    "-\tHerramientas e información avanzadas en repositorios privados:\n",
    "a.\tRevisores de solicitud de extracción requeridos\n",
    "b.\tMúltiples revisores de solicitudes de incorporación de cambios\n",
    "c.\tRamas protegidas\n",
    "d.\tPropietarios de código\n",
    "e.\tReferencias enlazadas automáticamente\n",
    "f.\tPáginas de GitHub\n",
    "g.\tWikis\n",
    "h.\tGráficos de información del repositorio: Pulso, contribuyentes, tráfico, confirmaciones, frecuencia de código, red y bifurcaciones"
   ]
  },
  {
   "cell_type": "markdown",
   "id": "577b2d7a-7f97-4c20-aca5-7af9cd2bc0d6",
   "metadata": {},
   "source": [
    "## Markdown y sus comandos"
   ]
  },
  {
   "cell_type": "markdown",
   "id": "9552d5a3-b414-4aaf-9943-3f5eb88dbe9f",
   "metadata": {},
   "source": [
    "Markdown es un formato de archivo semántico increíblemente simple, no muy diferente de .doc, .rtf y .txt. Markdown facilita incluso a aquellos que no tienen experiencia en publicación web escribir prosa (incluso con enlaces, listas, viñetas, etc.) y mostrarlo como un sitio web. GitHub es compatible con Markdown y usa una forma particular de Markdown llamada GitHub Flavored Markdown; basada en CommonMark Spec, define la sintaxis y la semántica de este dialecto. \n",
    "Markdown es un formato de texto sin formato para escribir documentos estructurados, basado en convenciones para indicar el formato en correos electrónicos y publicaciones. Ampliaron la sintaxis original de Markdown con convenciones para notas al pie, tablas y otros elementos del documento. Algunos permitieron que los documentos de Markdown se representaran en formatos distintos de HTML. Sitios web como Reddit, StackOverflow y GitHub tenían millones de personas que usaban Markdown. Y Markdown comenzó a usarse más allá de la web, para escribir libros, artículos, presentaciones de diapositivas, cartas y notas de conferencias. El objetivo principal del diseño de la sintaxis de formato de Markdown es hacer que sea lo más legible posible. La idea es que un documento con formato de Markdown se pueda publicar tal cual, como texto sin formato, sin que parezca que ha sido marcado con etiquetas o instrucciones de formato."
   ]
  },
  {
   "cell_type": "markdown",
   "id": "0d57128c-0e6d-411e-b07d-f85c5dc950f8",
   "metadata": {},
   "source": [
    "Para crear encabezados utilizar el símbolo # al inicio de la línea\n",
    "Un párrafo no requiere sintaxis especial. Para aplicar negrita al texto, se escribe entre dos asteriscos. Para aplicar cursiva al texto, se escribe entre un solo asterisco.\n",
    "Para crear listas numeradas empezar una línea con 1. o 1), pero no mezclar los formatos dentro de la misma lista. No es necesario especificar los números. Y para crear listas de viñetas, empiece una línea con *, - o +."
   ]
  },
  {
   "cell_type": "markdown",
   "id": "d7baa2cd-0347-4b06-8d44-f2d496eddc37",
   "metadata": {},
   "source": [
    "Las tablas no forman parte de la especificación principal de Markdown, pero Adobe las admite en cierta medida; no admite listas de líneas múltiples en celdas. Lo mejor es evitar el uso de varias líneas en las tablas. Puede crear tablas utilizando la barra vertical (|) para definir columnas y filas. Los guiones crean el encabezado de cada columna, mientras que las barras verticales separan las columnas. Incluya una línea en blanco antes de la tabla para que se muestre correctamente.\n",
    "Utiliza vínculos la sintaxis que se utiliza en línea consiste en la parte [link text], que es el texto que se va a hipervincular, seguido de la parte (file-name.md), que es la URL o el nombre de archivo al que se va a vincular: [link text](file-name.md)"
   ]
  },
  {
   "cell_type": "markdown",
   "id": "05db345e-4b85-4e71-b025-d2a9576f445f",
   "metadata": {},
   "source": [
    "En los artículos de Adobe se utiliza la puntuación estándar para la mayoría de los formatos de artículo, pueden hacer Bloques de notas, vídeos incrustados, no localizar.\n",
    "\n",
    "El símbolo de citas de bloque de Markdown (>) al principio de cada línea para enlazar un componente ampliado, como una nota. Si necesita utilizar subcomponentes dentro de componentes, agregue un nivel adicional de citas de bloque (> >) para esa sección de subcomponentes. Para encabezados y bloques de código, incluyen propiedades ampliadas, agregue los parámetros entre llaves /{ /} después del componente. Las propiedades ampliadas se describen en contexto."
   ]
  },
  {
   "cell_type": "markdown",
   "id": "cd9e3cf3-9acd-4680-9096-c20c4678a368",
   "metadata": {},
   "source": [
    "Si copia texto en un editor de Markdown, el texto puede contener apóstrofos o comillas. Deben codificarse o cambiarse por apóstrofos básicos o comillas. De lo contrario, aparecerán caracteres extraños como este cuando se publique el archivo: Itâ€™s. se utilizan las siguientes codificaciones: \n",
    "-\tComilla tipográfica izquierda (apertura): &#8220;\n",
    "-\tComilla tipográfica derecha (cierre): &#8221;\n",
    "-\tComilla tipográfica derecha simple (cierre) a la derecha o apóstrofo: &#8217;\n",
    "-\tComilla tipográfica izquierda simple (apertura; poco usada): &#8216"
   ]
  },
  {
   "cell_type": "code",
   "execution_count": null,
   "id": "8de353b6-095e-4598-99ad-bd9b20af59e0",
   "metadata": {},
   "outputs": [],
   "source": []
  }
 ],
 "metadata": {
  "kernelspec": {
   "display_name": "Python 3 (ipykernel)",
   "language": "python",
   "name": "python3"
  },
  "language_info": {
   "codemirror_mode": {
    "name": "ipython",
    "version": 3
   },
   "file_extension": ".py",
   "mimetype": "text/x-python",
   "name": "python",
   "nbconvert_exporter": "python",
   "pygments_lexer": "ipython3",
   "version": "3.9.12"
  }
 },
 "nbformat": 4,
 "nbformat_minor": 5
}
